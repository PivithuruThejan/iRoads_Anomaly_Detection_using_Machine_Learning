{
 "cells": [
  {
   "cell_type": "code",
   "execution_count": 78,
   "metadata": {},
   "outputs": [],
   "source": [
    "import pandas as pd\n",
    "import  numpy  as  np\n",
    "import matplotlib.pyplot as plt\n",
    "from sklearn.model_selection import train_test_split\n",
    "from sklearn.ensemble import RandomForestClassifier\n",
    "from sklearn import preprocessing\n",
    "from sklearn.model_selection import cross_val_score\n",
    "from sklearn.model_selection import GridSearchCV\n",
    "import seaborn as sns\n",
    "from imblearn.over_sampling import RandomOverSampler\n",
    "from imblearn.over_sampling import SMOTE\n",
    "from pandas_ml import ConfusionMatrix\n",
    "from scipy.fftpack import fft"
   ]
  },
  {
   "cell_type": "code",
   "execution_count": 64,
   "metadata": {
    "scrolled": true
   },
   "outputs": [
    {
     "data": {
      "text/html": [
       "<div>\n",
       "<style scoped>\n",
       "    .dataframe tbody tr th:only-of-type {\n",
       "        vertical-align: middle;\n",
       "    }\n",
       "\n",
       "    .dataframe tbody tr th {\n",
       "        vertical-align: top;\n",
       "    }\n",
       "\n",
       "    .dataframe thead th {\n",
       "        text-align: right;\n",
       "    }\n",
       "</style>\n",
       "<table border=\"1\" class=\"dataframe\">\n",
       "  <thead>\n",
       "    <tr style=\"text-align: right;\">\n",
       "      <th></th>\n",
       "      <th>acceY</th>\n",
       "      <th>anomaly</th>\n",
       "      <th>lat</th>\n",
       "      <th>lon</th>\n",
       "      <th>time</th>\n",
       "    </tr>\n",
       "  </thead>\n",
       "  <tbody>\n",
       "    <tr>\n",
       "      <th>0</th>\n",
       "      <td>9.730808</td>\n",
       "      <td>N</td>\n",
       "      <td>6.765363</td>\n",
       "      <td>79.948124</td>\n",
       "      <td>1538098834294</td>\n",
       "    </tr>\n",
       "    <tr>\n",
       "      <th>1</th>\n",
       "      <td>9.864739</td>\n",
       "      <td>N</td>\n",
       "      <td>6.765363</td>\n",
       "      <td>79.948124</td>\n",
       "      <td>1538098834379</td>\n",
       "    </tr>\n",
       "    <tr>\n",
       "      <th>2</th>\n",
       "      <td>9.795930</td>\n",
       "      <td>N</td>\n",
       "      <td>6.765363</td>\n",
       "      <td>79.948124</td>\n",
       "      <td>1538098834482</td>\n",
       "    </tr>\n",
       "    <tr>\n",
       "      <th>3</th>\n",
       "      <td>9.744646</td>\n",
       "      <td>N</td>\n",
       "      <td>6.765305</td>\n",
       "      <td>79.948123</td>\n",
       "      <td>1538098834599</td>\n",
       "    </tr>\n",
       "    <tr>\n",
       "      <th>4</th>\n",
       "      <td>9.873358</td>\n",
       "      <td>N</td>\n",
       "      <td>6.765305</td>\n",
       "      <td>79.948123</td>\n",
       "      <td>1538098834700</td>\n",
       "    </tr>\n",
       "  </tbody>\n",
       "</table>\n",
       "</div>"
      ],
      "text/plain": [
       "      acceY anomaly       lat        lon           time\n",
       "0  9.730808       N  6.765363  79.948124  1538098834294\n",
       "1  9.864739       N  6.765363  79.948124  1538098834379\n",
       "2  9.795930       N  6.765363  79.948124  1538098834482\n",
       "3  9.744646       N  6.765305  79.948123  1538098834599\n",
       "4  9.873358       N  6.765305  79.948123  1538098834700"
      ]
     },
     "execution_count": 64,
     "metadata": {},
     "output_type": "execute_result"
    }
   ],
   "source": [
    "raw_data_file_name= \"Predicted_Data/qixroq6.json\"\n",
    "raw_data = pd.read_json(raw_data_file_name)\n",
    "raw_data.head(5)"
   ]
  },
  {
   "cell_type": "code",
   "execution_count": 65,
   "metadata": {
    "scrolled": true
   },
   "outputs": [
    {
     "data": {
      "text/plain": [
       "(27109, 5)"
      ]
     },
     "execution_count": 65,
     "metadata": {},
     "output_type": "execute_result"
    }
   ],
   "source": [
    "raw_data.shape"
   ]
  },
  {
   "cell_type": "code",
   "execution_count": 66,
   "metadata": {
    "scrolled": true
   },
   "outputs": [
    {
     "data": {
      "text/plain": [
       "(2863, 6)"
      ]
     },
     "execution_count": 66,
     "metadata": {},
     "output_type": "execute_result"
    }
   ],
   "source": [
    "raw_data['sum'] =  raw_data.lat.astype(str) + raw_data.lon.astype(str)\n",
    "raw_data = raw_data.drop_duplicates(subset='sum', keep=\"first\")\n",
    "raw_data.shape"
   ]
  },
  {
   "cell_type": "code",
   "execution_count": 67,
   "metadata": {},
   "outputs": [
    {
     "data": {
      "text/plain": [
       "(5726, 6)"
      ]
     },
     "execution_count": 67,
     "metadata": {},
     "output_type": "execute_result"
    }
   ],
   "source": [
    "raw_data_file_name= \"Predicted_Data/gfysqe.json\"\n",
    "test_data = pd.read_json(raw_data_file_name)\n",
    "test_data['sum'] =  test_data.lat.astype(str) + test_data.lon.astype(str)\n",
    "test_data = test_data.drop_duplicates(subset='sum', keep=\"first\")\n",
    "raw_data = raw_data.append(test_data, ignore_index=True)\n",
    "raw_data.shape"
   ]
  },
  {
   "cell_type": "code",
   "execution_count": 68,
   "metadata": {},
   "outputs": [
    {
     "data": {
      "text/plain": [
       "(9387, 6)"
      ]
     },
     "execution_count": 68,
     "metadata": {},
     "output_type": "execute_result"
    }
   ],
   "source": [
    "raw_data_file_name= \"Predicted_Data/Bandaragama_Road_Weralugas_Junction.json\"\n",
    "test_data = pd.read_json(raw_data_file_name)\n",
    "test_data['sum'] =  test_data.lat.astype(str) + test_data.lon.astype(str)\n",
    "test_data = test_data.drop_duplicates(subset='sum', keep=\"first\")\n",
    "raw_data = raw_data.append(test_data, ignore_index=True)\n",
    "raw_data.shape"
   ]
  },
  {
   "cell_type": "code",
   "execution_count": 69,
   "metadata": {},
   "outputs": [
    {
     "data": {
      "text/plain": [
       "(11499, 6)"
      ]
     },
     "execution_count": 69,
     "metadata": {},
     "output_type": "execute_result"
    }
   ],
   "source": [
    "raw_data_file_name= \"Predicted_Data/BekkegamaRoadEluwila.json\"\n",
    "test_data = pd.read_json(raw_data_file_name)\n",
    "test_data['sum'] =  test_data.lat.astype(str) + test_data.lon.astype(str)\n",
    "test_data = test_data.drop_duplicates(subset='sum', keep=\"first\")\n",
    "raw_data = raw_data.append(test_data, ignore_index=True)\n",
    "raw_data.shape"
   ]
  },
  {
   "cell_type": "code",
   "execution_count": 70,
   "metadata": {},
   "outputs": [
    {
     "data": {
      "text/plain": [
       "(15509, 6)"
      ]
     },
     "execution_count": 70,
     "metadata": {},
     "output_type": "execute_result"
    }
   ],
   "source": [
    "raw_data_file_name= \"Predicted_Data/Kesbewa_Kosgashandiya_Road_Weralugas_Junction_2.json\"\n",
    "test_data = pd.read_json(raw_data_file_name)\n",
    "test_data['sum'] =  test_data.lat.astype(str) + test_data.lon.astype(str)\n",
    "test_data = test_data.drop_duplicates(subset='sum', keep=\"first\")\n",
    "raw_data = raw_data.append(test_data, ignore_index=True)\n",
    "raw_data.shape"
   ]
  },
  {
   "cell_type": "code",
   "execution_count": 71,
   "metadata": {},
   "outputs": [
    {
     "data": {
      "text/plain": [
       "(19757, 6)"
      ]
     },
     "execution_count": 71,
     "metadata": {},
     "output_type": "execute_result"
    }
   ],
   "source": [
    "raw_data_file_name= \"Predicted_Data/Salon_my_style_piliyandala_Piliyandala_Kottawa_Road.json\"\n",
    "test_data = pd.read_json(raw_data_file_name)\n",
    "test_data['sum'] =  test_data.lat.astype(str) + test_data.lon.astype(str)\n",
    "test_data = test_data.drop_duplicates(subset='sum', keep=\"first\")\n",
    "raw_data = raw_data.append(test_data, ignore_index=True)\n",
    "raw_data.shape"
   ]
  },
  {
   "cell_type": "code",
   "execution_count": 72,
   "metadata": {},
   "outputs": [
    {
     "data": {
      "text/plain": [
       "count     19757\n",
       "unique        2\n",
       "top           N\n",
       "freq      19533\n",
       "Name: anomaly, dtype: object"
      ]
     },
     "execution_count": 72,
     "metadata": {},
     "output_type": "execute_result"
    }
   ],
   "source": [
    "raw_data['anomaly'].describe()"
   ]
  },
  {
   "cell_type": "code",
   "execution_count": 73,
   "metadata": {},
   "outputs": [
    {
     "data": {
      "text/plain": [
       "(224, 6)"
      ]
     },
     "execution_count": 73,
     "metadata": {},
     "output_type": "execute_result"
    }
   ],
   "source": [
    "raw_data = raw_data[raw_data.anomaly != 'N']\n",
    "raw_data.shape"
   ]
  },
  {
   "cell_type": "code",
   "execution_count": 74,
   "metadata": {},
   "outputs": [
    {
     "data": {
      "text/html": [
       "<div>\n",
       "<style scoped>\n",
       "    .dataframe tbody tr th:only-of-type {\n",
       "        vertical-align: middle;\n",
       "    }\n",
       "\n",
       "    .dataframe tbody tr th {\n",
       "        vertical-align: top;\n",
       "    }\n",
       "\n",
       "    .dataframe thead th {\n",
       "        text-align: right;\n",
       "    }\n",
       "</style>\n",
       "<table border=\"1\" class=\"dataframe\">\n",
       "  <thead>\n",
       "    <tr style=\"text-align: right;\">\n",
       "      <th></th>\n",
       "      <th>acceY</th>\n",
       "      <th>anomaly</th>\n",
       "      <th>lat</th>\n",
       "      <th>lon</th>\n",
       "      <th>time</th>\n",
       "      <th>sum</th>\n",
       "    </tr>\n",
       "  </thead>\n",
       "  <tbody>\n",
       "    <tr>\n",
       "      <th>79</th>\n",
       "      <td>10.115843</td>\n",
       "      <td>A</td>\n",
       "      <td>6.758759</td>\n",
       "      <td>79.948375</td>\n",
       "      <td>1538098907538</td>\n",
       "      <td>6.7587592279.94837487</td>\n",
       "    </tr>\n",
       "    <tr>\n",
       "      <th>117</th>\n",
       "      <td>10.091279</td>\n",
       "      <td>A</td>\n",
       "      <td>6.757569</td>\n",
       "      <td>79.952875</td>\n",
       "      <td>1538098941599</td>\n",
       "      <td>6.757569099999999679.95287454</td>\n",
       "    </tr>\n",
       "    <tr>\n",
       "      <th>194</th>\n",
       "      <td>10.031184</td>\n",
       "      <td>A</td>\n",
       "      <td>6.752263</td>\n",
       "      <td>79.955845</td>\n",
       "      <td>1538099014618</td>\n",
       "      <td>6.7522634879.95584466</td>\n",
       "    </tr>\n",
       "    <tr>\n",
       "      <th>220</th>\n",
       "      <td>10.085532</td>\n",
       "      <td>A</td>\n",
       "      <td>6.751405</td>\n",
       "      <td>79.954408</td>\n",
       "      <td>1538099039540</td>\n",
       "      <td>6.7514049879.95440765</td>\n",
       "    </tr>\n",
       "    <tr>\n",
       "      <th>245</th>\n",
       "      <td>10.126904</td>\n",
       "      <td>A</td>\n",
       "      <td>6.749772</td>\n",
       "      <td>79.953156</td>\n",
       "      <td>1538099063640</td>\n",
       "      <td>6.7497718479.95315633</td>\n",
       "    </tr>\n",
       "  </tbody>\n",
       "</table>\n",
       "</div>"
      ],
      "text/plain": [
       "         acceY anomaly       lat        lon           time  \\\n",
       "79   10.115843       A  6.758759  79.948375  1538098907538   \n",
       "117  10.091279       A  6.757569  79.952875  1538098941599   \n",
       "194  10.031184       A  6.752263  79.955845  1538099014618   \n",
       "220  10.085532       A  6.751405  79.954408  1538099039540   \n",
       "245  10.126904       A  6.749772  79.953156  1538099063640   \n",
       "\n",
       "                               sum  \n",
       "79           6.7587592279.94837487  \n",
       "117  6.757569099999999679.95287454  \n",
       "194          6.7522634879.95584466  \n",
       "220          6.7514049879.95440765  \n",
       "245          6.7497718479.95315633  "
      ]
     },
     "execution_count": 74,
     "metadata": {},
     "output_type": "execute_result"
    }
   ],
   "source": [
    "raw_data.head()"
   ]
  },
  {
   "cell_type": "code",
   "execution_count": 75,
   "metadata": {},
   "outputs": [
    {
     "data": {
      "text/html": [
       "<div>\n",
       "<style scoped>\n",
       "    .dataframe tbody tr th:only-of-type {\n",
       "        vertical-align: middle;\n",
       "    }\n",
       "\n",
       "    .dataframe tbody tr th {\n",
       "        vertical-align: top;\n",
       "    }\n",
       "\n",
       "    .dataframe thead th {\n",
       "        text-align: right;\n",
       "    }\n",
       "</style>\n",
       "<table border=\"1\" class=\"dataframe\">\n",
       "  <thead>\n",
       "    <tr style=\"text-align: right;\">\n",
       "      <th></th>\n",
       "      <th>anomaly</th>\n",
       "      <th>lat</th>\n",
       "      <th>lon</th>\n",
       "    </tr>\n",
       "  </thead>\n",
       "  <tbody>\n",
       "    <tr>\n",
       "      <th>79</th>\n",
       "      <td>A</td>\n",
       "      <td>6.758759</td>\n",
       "      <td>79.948375</td>\n",
       "    </tr>\n",
       "    <tr>\n",
       "      <th>117</th>\n",
       "      <td>A</td>\n",
       "      <td>6.757569</td>\n",
       "      <td>79.952875</td>\n",
       "    </tr>\n",
       "    <tr>\n",
       "      <th>194</th>\n",
       "      <td>A</td>\n",
       "      <td>6.752263</td>\n",
       "      <td>79.955845</td>\n",
       "    </tr>\n",
       "    <tr>\n",
       "      <th>220</th>\n",
       "      <td>A</td>\n",
       "      <td>6.751405</td>\n",
       "      <td>79.954408</td>\n",
       "    </tr>\n",
       "    <tr>\n",
       "      <th>245</th>\n",
       "      <td>A</td>\n",
       "      <td>6.749772</td>\n",
       "      <td>79.953156</td>\n",
       "    </tr>\n",
       "  </tbody>\n",
       "</table>\n",
       "</div>"
      ],
      "text/plain": [
       "    anomaly       lat        lon\n",
       "79        A  6.758759  79.948375\n",
       "117       A  6.757569  79.952875\n",
       "194       A  6.752263  79.955845\n",
       "220       A  6.751405  79.954408\n",
       "245       A  6.749772  79.953156"
      ]
     },
     "execution_count": 75,
     "metadata": {},
     "output_type": "execute_result"
    }
   ],
   "source": [
    "features = ['anomaly', 'lat', 'lon']\n",
    "raw_data = raw_data[features]\n",
    "raw_data.head()"
   ]
  },
  {
   "cell_type": "code",
   "execution_count": 76,
   "metadata": {},
   "outputs": [
    {
     "data": {
      "text/plain": [
       "count     224\n",
       "unique      1\n",
       "top         A\n",
       "freq      224\n",
       "Name: anomaly, dtype: object"
      ]
     },
     "execution_count": 76,
     "metadata": {},
     "output_type": "execute_result"
    }
   ],
   "source": [
    "raw_data['anomaly'].describe()"
   ]
  },
  {
   "cell_type": "code",
   "execution_count": 77,
   "metadata": {
    "scrolled": true
   },
   "outputs": [],
   "source": [
    "raw_data.to_json(\"Data_to_Clustered/dilum_sir_route_without_duplications.json\", orient='records')"
   ]
  },
  {
   "cell_type": "code",
   "execution_count": null,
   "metadata": {},
   "outputs": [],
   "source": []
  }
 ],
 "metadata": {
  "kernelspec": {
   "display_name": "Python 3",
   "language": "python",
   "name": "python3"
  },
  "language_info": {
   "codemirror_mode": {
    "name": "ipython",
    "version": 3
   },
   "file_extension": ".py",
   "mimetype": "text/x-python",
   "name": "python",
   "nbconvert_exporter": "python",
   "pygments_lexer": "ipython3",
   "version": "3.6.6"
  }
 },
 "nbformat": 4,
 "nbformat_minor": 2
}
