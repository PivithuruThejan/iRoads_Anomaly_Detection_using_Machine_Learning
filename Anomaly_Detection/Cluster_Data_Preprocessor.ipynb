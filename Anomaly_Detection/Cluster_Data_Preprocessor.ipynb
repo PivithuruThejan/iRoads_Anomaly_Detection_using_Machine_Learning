{
 "cells": [
  {
   "cell_type": "code",
   "execution_count": 7,
   "metadata": {},
   "outputs": [],
   "source": [
    "import pandas as pd\n",
    "import  numpy  as  np\n",
    "import matplotlib.pyplot as plt\n",
    "from sklearn.model_selection import train_test_split\n",
    "from sklearn.ensemble import RandomForestClassifier\n",
    "from sklearn import preprocessing\n",
    "from sklearn.model_selection import cross_val_score\n",
    "from sklearn.model_selection import GridSearchCV\n",
    "import seaborn as sns\n",
    "from imblearn.over_sampling import RandomOverSampler\n",
    "from imblearn.over_sampling import SMOTE\n",
    "from pandas_ml import ConfusionMatrix\n",
    "from scipy.fftpack import fft"
   ]
  },
  {
   "cell_type": "code",
   "execution_count": 8,
   "metadata": {},
   "outputs": [
    {
     "data": {
      "text/html": [
       "<div>\n",
       "<style scoped>\n",
       "    .dataframe tbody tr th:only-of-type {\n",
       "        vertical-align: middle;\n",
       "    }\n",
       "\n",
       "    .dataframe tbody tr th {\n",
       "        vertical-align: top;\n",
       "    }\n",
       "\n",
       "    .dataframe thead th {\n",
       "        text-align: right;\n",
       "    }\n",
       "</style>\n",
       "<table border=\"1\" class=\"dataframe\">\n",
       "  <thead>\n",
       "    <tr style=\"text-align: right;\">\n",
       "      <th></th>\n",
       "      <th>acceY</th>\n",
       "      <th>anomaly</th>\n",
       "      <th>lat</th>\n",
       "      <th>lon</th>\n",
       "      <th>time</th>\n",
       "    </tr>\n",
       "  </thead>\n",
       "  <tbody>\n",
       "    <tr>\n",
       "      <th>0</th>\n",
       "      <td>9.730808</td>\n",
       "      <td>N</td>\n",
       "      <td>6.765363</td>\n",
       "      <td>79.948124</td>\n",
       "      <td>1538098834294</td>\n",
       "    </tr>\n",
       "    <tr>\n",
       "      <th>1</th>\n",
       "      <td>9.864739</td>\n",
       "      <td>N</td>\n",
       "      <td>6.765363</td>\n",
       "      <td>79.948124</td>\n",
       "      <td>1538098834379</td>\n",
       "    </tr>\n",
       "    <tr>\n",
       "      <th>2</th>\n",
       "      <td>9.795930</td>\n",
       "      <td>N</td>\n",
       "      <td>6.765363</td>\n",
       "      <td>79.948124</td>\n",
       "      <td>1538098834482</td>\n",
       "    </tr>\n",
       "    <tr>\n",
       "      <th>3</th>\n",
       "      <td>9.744646</td>\n",
       "      <td>N</td>\n",
       "      <td>6.765305</td>\n",
       "      <td>79.948123</td>\n",
       "      <td>1538098834599</td>\n",
       "    </tr>\n",
       "    <tr>\n",
       "      <th>4</th>\n",
       "      <td>9.873358</td>\n",
       "      <td>N</td>\n",
       "      <td>6.765305</td>\n",
       "      <td>79.948123</td>\n",
       "      <td>1538098834700</td>\n",
       "    </tr>\n",
       "  </tbody>\n",
       "</table>\n",
       "</div>"
      ],
      "text/plain": [
       "      acceY anomaly       lat        lon           time\n",
       "0  9.730808       N  6.765363  79.948124  1538098834294\n",
       "1  9.864739       N  6.765363  79.948124  1538098834379\n",
       "2  9.795930       N  6.765363  79.948124  1538098834482\n",
       "3  9.744646       N  6.765305  79.948123  1538098834599\n",
       "4  9.873358       N  6.765305  79.948123  1538098834700"
      ]
     },
     "execution_count": 8,
     "metadata": {},
     "output_type": "execute_result"
    }
   ],
   "source": [
    "raw_data_file_name= \"Predicted_Data/qixroq6.json\"\n",
    "raw_data = pd.read_json(raw_data_file_name)\n",
    "raw_data.head(5)"
   ]
  },
  {
   "cell_type": "code",
   "execution_count": 9,
   "metadata": {
    "scrolled": true
   },
   "outputs": [
    {
     "data": {
      "text/plain": [
       "(27109, 5)"
      ]
     },
     "execution_count": 9,
     "metadata": {},
     "output_type": "execute_result"
    }
   ],
   "source": [
    "raw_data.shape"
   ]
  },
  {
   "cell_type": "code",
   "execution_count": 10,
   "metadata": {},
   "outputs": [
    {
     "data": {
      "text/plain": [
       "(54218, 5)"
      ]
     },
     "execution_count": 10,
     "metadata": {},
     "output_type": "execute_result"
    }
   ],
   "source": [
    "raw_data_file_name= \"Predicted_Data/gfysqe.json\"\n",
    "\n",
    "raw_data = raw_data.append(pd.read_json(raw_data_file_name), ignore_index=True)\n",
    "raw_data.shape"
   ]
  },
  {
   "cell_type": "code",
   "execution_count": 11,
   "metadata": {},
   "outputs": [
    {
     "data": {
      "text/plain": [
       "(88887, 5)"
      ]
     },
     "execution_count": 11,
     "metadata": {},
     "output_type": "execute_result"
    }
   ],
   "source": [
    "raw_data_file_name= \"Predicted_Data/Bandaragama_Road_Weralugas_Junction.json\"\n",
    "raw_data = raw_data.append(pd.read_json(raw_data_file_name), ignore_index=True)\n",
    "raw_data.shape"
   ]
  },
  {
   "cell_type": "code",
   "execution_count": 12,
   "metadata": {},
   "outputs": [
    {
     "data": {
      "text/plain": [
       "count     88887\n",
       "unique        2\n",
       "top           N\n",
       "freq      87903\n",
       "Name: anomaly, dtype: object"
      ]
     },
     "execution_count": 12,
     "metadata": {},
     "output_type": "execute_result"
    }
   ],
   "source": [
    "raw_data['anomaly'].describe()"
   ]
  },
  {
   "cell_type": "code",
   "execution_count": 13,
   "metadata": {},
   "outputs": [
    {
     "data": {
      "text/plain": [
       "(984, 5)"
      ]
     },
     "execution_count": 13,
     "metadata": {},
     "output_type": "execute_result"
    }
   ],
   "source": [
    "raw_data = raw_data[raw_data.anomaly != 'N']\n",
    "raw_data.shape"
   ]
  },
  {
   "cell_type": "code",
   "execution_count": 14,
   "metadata": {},
   "outputs": [
    {
     "data": {
      "text/html": [
       "<div>\n",
       "<style scoped>\n",
       "    .dataframe tbody tr th:only-of-type {\n",
       "        vertical-align: middle;\n",
       "    }\n",
       "\n",
       "    .dataframe tbody tr th {\n",
       "        vertical-align: top;\n",
       "    }\n",
       "\n",
       "    .dataframe thead th {\n",
       "        text-align: right;\n",
       "    }\n",
       "</style>\n",
       "<table border=\"1\" class=\"dataframe\">\n",
       "  <thead>\n",
       "    <tr style=\"text-align: right;\">\n",
       "      <th></th>\n",
       "      <th>acceY</th>\n",
       "      <th>anomaly</th>\n",
       "      <th>lat</th>\n",
       "      <th>lon</th>\n",
       "      <th>time</th>\n",
       "    </tr>\n",
       "  </thead>\n",
       "  <tbody>\n",
       "    <tr>\n",
       "      <th>427</th>\n",
       "      <td>10.014616</td>\n",
       "      <td>A</td>\n",
       "      <td>6.761253</td>\n",
       "      <td>79.947881</td>\n",
       "      <td>1538098877180</td>\n",
       "    </tr>\n",
       "    <tr>\n",
       "      <th>729</th>\n",
       "      <td>10.115843</td>\n",
       "      <td>A</td>\n",
       "      <td>6.758759</td>\n",
       "      <td>79.948375</td>\n",
       "      <td>1538098907538</td>\n",
       "    </tr>\n",
       "    <tr>\n",
       "      <th>736</th>\n",
       "      <td>10.028455</td>\n",
       "      <td>A</td>\n",
       "      <td>6.758759</td>\n",
       "      <td>79.948375</td>\n",
       "      <td>1538098908240</td>\n",
       "    </tr>\n",
       "    <tr>\n",
       "      <th>754</th>\n",
       "      <td>10.260644</td>\n",
       "      <td>A</td>\n",
       "      <td>6.758699</td>\n",
       "      <td>79.948589</td>\n",
       "      <td>1538098910039</td>\n",
       "    </tr>\n",
       "    <tr>\n",
       "      <th>838</th>\n",
       "      <td>10.023666</td>\n",
       "      <td>A</td>\n",
       "      <td>6.758502</td>\n",
       "      <td>79.949441</td>\n",
       "      <td>1538098918479</td>\n",
       "    </tr>\n",
       "  </tbody>\n",
       "</table>\n",
       "</div>"
      ],
      "text/plain": [
       "         acceY anomaly       lat        lon           time\n",
       "427  10.014616       A  6.761253  79.947881  1538098877180\n",
       "729  10.115843       A  6.758759  79.948375  1538098907538\n",
       "736  10.028455       A  6.758759  79.948375  1538098908240\n",
       "754  10.260644       A  6.758699  79.948589  1538098910039\n",
       "838  10.023666       A  6.758502  79.949441  1538098918479"
      ]
     },
     "execution_count": 14,
     "metadata": {},
     "output_type": "execute_result"
    }
   ],
   "source": [
    "raw_data.head()"
   ]
  },
  {
   "cell_type": "code",
   "execution_count": 15,
   "metadata": {},
   "outputs": [
    {
     "data": {
      "text/plain": [
       "count     984\n",
       "unique      1\n",
       "top         A\n",
       "freq      984\n",
       "Name: anomaly, dtype: object"
      ]
     },
     "execution_count": 15,
     "metadata": {},
     "output_type": "execute_result"
    }
   ],
   "source": [
    "raw_data['anomaly'].describe()"
   ]
  },
  {
   "cell_type": "code",
   "execution_count": 16,
   "metadata": {
    "scrolled": true
   },
   "outputs": [],
   "source": [
    "raw_data.to_json(\"Data_to_Clustered/dilum_sir_route.json\", orient='records')"
   ]
  },
  {
   "cell_type": "code",
   "execution_count": null,
   "metadata": {},
   "outputs": [],
   "source": []
  }
 ],
 "metadata": {
  "kernelspec": {
   "display_name": "Python 3",
   "language": "python",
   "name": "python3"
  },
  "language_info": {
   "codemirror_mode": {
    "name": "ipython",
    "version": 3
   },
   "file_extension": ".py",
   "mimetype": "text/x-python",
   "name": "python",
   "nbconvert_exporter": "python",
   "pygments_lexer": "ipython3",
   "version": "3.6.6"
  }
 },
 "nbformat": 4,
 "nbformat_minor": 2
}
