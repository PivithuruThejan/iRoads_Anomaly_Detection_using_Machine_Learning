{
 "cells": [
  {
   "cell_type": "code",
   "execution_count": 102,
   "metadata": {},
   "outputs": [],
   "source": [
    "import pandas as pd\n",
    "import  numpy  as  np\n",
    "import matplotlib.pyplot as plt\n",
    "from sklearn.model_selection import train_test_split\n",
    "from sklearn.ensemble import RandomForestClassifier\n",
    "from sklearn import preprocessing\n",
    "from sklearn.model_selection import cross_val_score\n",
    "from sklearn.model_selection import GridSearchCV\n",
    "import seaborn as sns\n",
    "from imblearn.over_sampling import RandomOverSampler\n",
    "from imblearn.over_sampling import SMOTE\n",
    "from pandas_ml import ConfusionMatrix\n",
    "from scipy.fftpack import fft\n",
    "from geopandas import GeoDataFrame\n",
    "import geopandas\n",
    "from shapely.geometry import Point\n",
    "from sklearn.cluster import DBSCAN\n",
    "from sklearn import metrics"
   ]
  },
  {
   "cell_type": "code",
   "execution_count": 103,
   "metadata": {
    "scrolled": true
   },
   "outputs": [
    {
     "data": {
      "text/html": [
       "<div>\n",
       "<style scoped>\n",
       "    .dataframe tbody tr th:only-of-type {\n",
       "        vertical-align: middle;\n",
       "    }\n",
       "\n",
       "    .dataframe tbody tr th {\n",
       "        vertical-align: top;\n",
       "    }\n",
       "\n",
       "    .dataframe thead th {\n",
       "        text-align: right;\n",
       "    }\n",
       "</style>\n",
       "<table border=\"1\" class=\"dataframe\">\n",
       "  <thead>\n",
       "    <tr style=\"text-align: right;\">\n",
       "      <th></th>\n",
       "      <th>acceY</th>\n",
       "      <th>anomaly</th>\n",
       "      <th>lat</th>\n",
       "      <th>lon</th>\n",
       "      <th>time</th>\n",
       "    </tr>\n",
       "  </thead>\n",
       "  <tbody>\n",
       "    <tr>\n",
       "      <th>0</th>\n",
       "      <td>10.014616</td>\n",
       "      <td>A</td>\n",
       "      <td>6.761253</td>\n",
       "      <td>79.947881</td>\n",
       "      <td>1538098877180</td>\n",
       "    </tr>\n",
       "    <tr>\n",
       "      <th>1</th>\n",
       "      <td>10.115843</td>\n",
       "      <td>A</td>\n",
       "      <td>6.758759</td>\n",
       "      <td>79.948375</td>\n",
       "      <td>1538098907538</td>\n",
       "    </tr>\n",
       "    <tr>\n",
       "      <th>2</th>\n",
       "      <td>10.028455</td>\n",
       "      <td>A</td>\n",
       "      <td>6.758759</td>\n",
       "      <td>79.948375</td>\n",
       "      <td>1538098908240</td>\n",
       "    </tr>\n",
       "    <tr>\n",
       "      <th>3</th>\n",
       "      <td>10.260644</td>\n",
       "      <td>A</td>\n",
       "      <td>6.758699</td>\n",
       "      <td>79.948589</td>\n",
       "      <td>1538098910039</td>\n",
       "    </tr>\n",
       "    <tr>\n",
       "      <th>4</th>\n",
       "      <td>10.023666</td>\n",
       "      <td>A</td>\n",
       "      <td>6.758502</td>\n",
       "      <td>79.949441</td>\n",
       "      <td>1538098918479</td>\n",
       "    </tr>\n",
       "  </tbody>\n",
       "</table>\n",
       "</div>"
      ],
      "text/plain": [
       "       acceY anomaly       lat        lon           time\n",
       "0  10.014616       A  6.761253  79.947881  1538098877180\n",
       "1  10.115843       A  6.758759  79.948375  1538098907538\n",
       "2  10.028455       A  6.758759  79.948375  1538098908240\n",
       "3  10.260644       A  6.758699  79.948589  1538098910039\n",
       "4  10.023666       A  6.758502  79.949441  1538098918479"
      ]
     },
     "execution_count": 103,
     "metadata": {},
     "output_type": "execute_result"
    }
   ],
   "source": [
    "raw_data_file_name= \"Data_to_Clustered/dilum_sir_route.json\"\n",
    "raw_data = pd.read_json(raw_data_file_name)\n",
    "raw_data.head(5)"
   ]
  },
  {
   "cell_type": "code",
   "execution_count": 104,
   "metadata": {},
   "outputs": [
    {
     "data": {
      "text/plain": [
       "(984, 5)"
      ]
     },
     "execution_count": 104,
     "metadata": {},
     "output_type": "execute_result"
    }
   ],
   "source": [
    "raw_data.shape"
   ]
  },
  {
   "cell_type": "code",
   "execution_count": 105,
   "metadata": {},
   "outputs": [],
   "source": [
    "#features = ['lat','lon',]\n",
    "#coordinates = raw_data[features]\n",
    "#coordinates.head()"
   ]
  },
  {
   "cell_type": "code",
   "execution_count": 106,
   "metadata": {},
   "outputs": [],
   "source": [
    "#coordinates.shape"
   ]
  },
  {
   "cell_type": "code",
   "execution_count": 107,
   "metadata": {},
   "outputs": [],
   "source": [
    "#coordinates['coordinates'] = list(zip(coordinates.lon, coordinates.lat))"
   ]
  },
  {
   "cell_type": "code",
   "execution_count": 108,
   "metadata": {},
   "outputs": [],
   "source": [
    "#coordinates.head()"
   ]
  },
  {
   "cell_type": "code",
   "execution_count": 109,
   "metadata": {},
   "outputs": [],
   "source": [
    "#coordinates['coordinates'] = coordinates['coordinates'].apply(Point)"
   ]
  },
  {
   "cell_type": "code",
   "execution_count": 110,
   "metadata": {},
   "outputs": [],
   "source": [
    "#coordinates.head()"
   ]
  },
  {
   "cell_type": "code",
   "execution_count": 111,
   "metadata": {
    "scrolled": true
   },
   "outputs": [],
   "source": [
    "#gdf = GeoDataFrame(coordinates, geometry='coordinates')\n",
    "#gdf.plot()"
   ]
  },
  {
   "cell_type": "code",
   "execution_count": 112,
   "metadata": {},
   "outputs": [],
   "source": [
    "#print(gdf.head())"
   ]
  },
  {
   "cell_type": "code",
   "execution_count": 113,
   "metadata": {
    "scrolled": true
   },
   "outputs": [],
   "source": [
    "#world = geopandas.read_file(geopandas.datasets.get_path('naturalearth_lowres'))\n",
    "\n",
    "# We restrict to South America.\n",
    "#ax = world[world.continent == 'Asia'].plot(\n",
    "    #color='white', edgecolor='black')\n",
    "\n",
    "# We can now plot our GeoDataFrame.\n",
    "#gdf.plot(ax=ax, color='red')\n",
    "\n",
    "#plt.show()"
   ]
  },
  {
   "cell_type": "code",
   "execution_count": 114,
   "metadata": {},
   "outputs": [],
   "source": [
    "#gdf.plot()"
   ]
  },
  {
   "cell_type": "code",
   "execution_count": 115,
   "metadata": {},
   "outputs": [],
   "source": [
    "#kms_per_radian = 6371.0088\n",
    "#epsilon = 0.01 / kms_per_radian\n",
    "#print(epsilon)"
   ]
  },
  {
   "cell_type": "code",
   "execution_count": 116,
   "metadata": {
    "scrolled": true
   },
   "outputs": [],
   "source": [
    "kms_per_radian = 6371.0088\n",
    "epsilon = 0.005 / kms_per_radian\n",
    "coords = raw_data.as_matrix(columns=['lat', 'lon'])\n",
    "#print(coords)"
   ]
  },
  {
   "cell_type": "code",
   "execution_count": 117,
   "metadata": {},
   "outputs": [],
   "source": [
    "db = DBSCAN(eps = epsilon, min_samples=5, algorithm='ball_tree',metric='haversine').fit(np.radians(coords))"
   ]
  },
  {
   "cell_type": "code",
   "execution_count": 118,
   "metadata": {
    "scrolled": true
   },
   "outputs": [],
   "source": [
    "cluster_labels = db.labels_\n",
    "n_clusters = len(set(cluster_labels))"
   ]
  },
  {
   "cell_type": "code",
   "execution_count": 119,
   "metadata": {},
   "outputs": [
    {
     "data": {
      "text/plain": [
       "array([-1, -1, -1, -1, -1, -1,  0,  0, -1, -1, -1, -1, -1, -1,  1,  1,  1,\n",
       "       -1,  2,  2,  3,  3,  3,  3, -1, -1,  4,  4,  4,  4,  5,  5,  5, -1,\n",
       "        6,  6, -1, -1, -1, -1, -1, -1, -1, -1,  7,  7,  8,  8, -1,  9, -1,\n",
       "       10, 10, 11, 11, 11, -1, -1, -1, -1, 12, 12, -1, 13, 13, -1, 14, 14,\n",
       "       14, 14, 15, 15, 16, 16, 16, 17, 17, 17, 17, -1, -1, 18, 18, -1, -1,\n",
       "       -1, 19, 19, -1, -1, -1, 20, 20, -1, 21, 21, 21, 22, 22, 22, 23, 23,\n",
       "       23, 23, 23, -1, -1, -1, -1, 24, 24, 24, -1, -1, -1, -1, -1, -1, -1,\n",
       "       -1, -1, -1, -1, -1, -1, -1, -1, -1, -1, -1, -1, -1, -1, -1, -1, -1,\n",
       "       -1, -1, -1, -1, -1, 25, 25, 25, -1, -1, -1, -1, -1, -1, 26, 26, 26,\n",
       "       -1, -1, -1, 27, 27, 27, -1, 28, 28, 28, 29, 29, 29, 29, 29, -1, -1,\n",
       "       -1, -1, -1, -1, -1, -1, 30, 30, -1, -1, -1, -1, -1, -1, -1, -1, -1,\n",
       "       -1, -1, -1, -1, -1, -1, -1, -1, -1, -1, 31, 32, 32, 32, -1, -1, -1,\n",
       "       -1, -1, -1, -1, -1, -1, -1, 33, 33, -1, -1, -1, -1, -1, 34, 34, 34,\n",
       "       -1, -1, -1, -1, -1, 35, 35, -1, -1, -1, -1, -1, -1, -1, -1, -1, -1,\n",
       "       36, 36, 36, 36, 36, 36, 36, 36, 36, 36, 36, 36, -1, -1, -1, 37, 37,\n",
       "       37, 37, -1, -1, -1, -1, 38, 38, 38, 38, 38, 38, 38, -1, -1, 39, 39,\n",
       "       39, -1, -1, -1, 40, 40, 40, -1, -1, -1, -1, -1, 41, 41, 41, 41, 41,\n",
       "       41, 42, 42, 43, 43, -1, 49, 49, -1, 44, 44, 44, 45, 45, 45, 45, -1,\n",
       "       -1, -1, -1, -1, -1, -1, -1, -1, -1, -1, -1, -1, -1, -1, -1, -1, -1,\n",
       "       -1, -1, -1, 46, 46, -1, 47, 47, 47, 48, 48, 48, 48, 48, 48, 48, 48,\n",
       "       -1, -1, -1, -1, -1, -1,  0,  0, -1, -1, -1, -1, -1, -1,  1,  1,  1,\n",
       "       -1,  2,  2,  3,  3,  3,  3, -1, -1,  4,  4,  4,  4,  5,  5,  5, -1,\n",
       "        6,  6, -1, -1, -1, -1, -1, -1, -1, -1,  7,  7,  8,  8, -1,  9, -1,\n",
       "       10, 10, 11, 11, 11, -1, -1, -1, -1, 12, 12, -1, 13, 13, -1, 14, 14,\n",
       "       14, 14, 15, 15, 16, 16, 16, 17, 17, 17, 17, -1, -1, 18, 18, -1, -1,\n",
       "       -1, 19, 19, -1, -1, -1, 20, 20, -1, 21, 21, 21, 22, 22, 22, 23, 23,\n",
       "       23, 23, 23, -1, -1, -1, -1, 24, 24, 24, -1, -1, -1, -1, -1, -1, -1,\n",
       "       -1, -1, -1, -1, -1, -1, -1, -1, -1, -1, -1, -1, -1, -1, -1, -1, -1,\n",
       "       -1, -1, -1, -1, -1, 25, 25, 25, -1, -1, -1, -1, -1, -1, 26, 26, 26,\n",
       "       -1, -1, -1, 27, 27, 27, -1, 28, 28, 28, 29, 29, 29, 29, 29, -1, -1,\n",
       "       -1, -1, -1, -1, -1, -1, 30, 30, -1, -1, -1, -1, -1, -1, -1, -1, -1,\n",
       "       -1, -1, -1, -1, -1, -1, -1, -1, -1, -1, 31, 32, 32, 32, -1, -1, -1,\n",
       "       -1, -1, -1, -1, -1, -1, -1, 33, 33, -1, -1, -1, -1, -1, 34, 34, 34,\n",
       "       -1, -1, -1, -1, -1, 35, 35, -1, -1, -1, -1, -1, -1, -1, -1, -1, -1,\n",
       "       36, 36, 36, 36, 36, 36, 36, 36, 36, 36, 36, 36, -1, -1, -1, 37, 37,\n",
       "       37, 37, -1, -1, -1, -1, 38, 38, 38, 38, 38, 38, 38, -1, -1, 39, 39,\n",
       "       39, -1, -1, -1, 40, 40, 40, -1, -1, -1, -1, -1, 41, 41, 41, 41, 41,\n",
       "       41, 42, 42, 43, 43, -1, 49, 49, -1, 44, 44, 44, 45, 45, 45, 45, -1,\n",
       "       -1, -1, -1, -1, -1, -1, -1, -1, -1, -1, -1, -1, -1, -1, -1, -1, -1,\n",
       "       -1, -1, -1, 46, 46, -1, 47, 47, 47, 48, 48, 48, 48, 48, 48, 48, 48,\n",
       "       -1, -1, -1, -1, -1,  0, -1, -1, -1, -1, -1,  1, -1,  2,  2,  2,  3,\n",
       "        3,  3,  4,  4,  4,  5, -1, -1, -1,  6, -1, -1, -1, -1, -1,  7,  8,\n",
       "       -1, -1, -1, -1, -1, -1, -1,  9,  9,  9,  9,  9, 10, -1, -1, -1, -1,\n",
       "       -1, -1, -1, 12, -1, -1, -1, -1, 13, 13, -1, -1, 14, 14, 14, 15, -1,\n",
       "       17, 17, 17, -1, -1, -1, -1, -1, 18, 18, 18, -1, -1, -1, -1, -1, 19,\n",
       "       19, -1, -1, -1, 20, -1, -1, -1, -1, -1, 21, 21, 22, 22, 23, 23, 23,\n",
       "       23, 23, 23, -1, -1, 24, 24, -1, -1, -1, -1, -1, -1, -1, -1, -1, -1,\n",
       "       -1, -1, -1, -1, -1, -1, -1, -1, -1, -1, -1, 25, 25, 25, 25, -1, -1,\n",
       "       -1, -1, 27, 27, 27, 29, 29, 29, -1, -1, -1, -1, -1, 30, 30, -1, -1,\n",
       "       -1, -1, -1, -1, -1, -1, -1, -1, -1, -1, 31, 31, 31, 31, 32, 32, 32,\n",
       "       -1, -1, -1, -1, -1, -1, -1, -1, -1, 33, -1, -1, -1, -1, 35, 35, -1,\n",
       "       -1, -1, -1, -1, -1, -1, -1, -1, -1, -1, -1, 36, 36, 36, 36, 36, 36,\n",
       "       36, 36, 36, 36, 36, 36, 36, 36, 36, -1, -1, -1, -1, -1, -1, 36, 36,\n",
       "       36, 36, 36, 36, -1, -1, -1, 38, 38, 38, 38, 38, 38, 38, 38, -1, -1,\n",
       "       39, 39, 39, 39, -1, -1, -1, -1, -1, -1, -1, -1, -1, 40, -1, -1, -1,\n",
       "       -1, -1, 41, 41, 41, 42, 43, 49, -1, 44, -1, -1, -1, 45, 45, 45, 45,\n",
       "       45, -1, -1, -1, -1, -1, -1, -1, -1, -1, -1, -1, -1, -1, -1, -1, -1,\n",
       "       -1, -1, -1, -1, -1, -1, -1, -1, 46, 46, -1, 47, 47, 47, -1],\n",
       "      dtype=int64)"
      ]
     },
     "execution_count": 119,
     "metadata": {},
     "output_type": "execute_result"
    }
   ],
   "source": [
    "cluster_labels "
   ]
  },
  {
   "cell_type": "code",
   "execution_count": 120,
   "metadata": {},
   "outputs": [
    {
     "data": {
      "text/plain": [
       "DBSCAN(algorithm='ball_tree', eps=7.848050688613082e-07, leaf_size=30,\n",
       "    metric='haversine', metric_params=None, min_samples=5, n_jobs=1,\n",
       "    p=None)"
      ]
     },
     "execution_count": 120,
     "metadata": {},
     "output_type": "execute_result"
    }
   ],
   "source": [
    "db"
   ]
  },
  {
   "cell_type": "code",
   "execution_count": 121,
   "metadata": {},
   "outputs": [
    {
     "data": {
      "image/png": "[encoded data removed]",
      "text/plain": [
       "<Figure size 432x288 with 1 Axes>"
      ]
     },
     "metadata": {},
     "output_type": "display_data"
    }
   ],
   "source": [
    "x = raw_data['lat']\n",
    "y = raw_data['lon']\n",
    "\n",
    "plt.scatter(x,y)\n",
    "plt.xlabel(\"lat\")\n",
    "plt.ylabel(\"lon\")\n",
    "plt.show()"
   ]
  },
  {
   "cell_type": "code",
   "execution_count": 122,
   "metadata": {
    "scrolled": true
   },
   "outputs": [
    {
     "data": {
      "text/plain": [
       "array([  6,   7,  15,  16,  18,  19,  20,  21,  22,  23,  26,  27,  28,\n",
       "        29,  30,  31,  32,  34,  35,  44,  45,  46,  47,  49,  51,  52,\n",
       "        53,  54,  55,  60,  61,  63,  64,  66,  67,  68,  69,  70,  71,\n",
       "        72,  73,  74,  75,  76,  77,  78,  81,  82,  86,  87,  91,  92,\n",
       "        94,  95,  96,  97,  98, 100, 101, 102, 103, 104, 109, 110, 111,\n",
       "       141, 142, 143, 150, 151, 152, 156, 157, 158, 160, 161, 162, 163,\n",
       "       164, 165, 167, 176, 177, 197, 198, 199, 211, 212, 218, 219, 220,\n",
       "       226, 227, 238, 239, 240, 241, 242, 243, 244, 245, 246, 247, 248,\n",
       "       249, 253, 254, 255, 256, 261, 262, 263, 264, 265, 266, 267, 271,\n",
       "       272, 276, 277, 278, 285, 286, 287, 288, 289, 290, 291, 292, 293,\n",
       "       298, 299, 300, 301, 302, 303, 304, 326, 327, 329, 330, 331, 332,\n",
       "       333, 334, 335, 336, 337, 338, 339, 346, 347, 355, 356, 358, 359,\n",
       "       360, 361, 362, 363, 366, 367, 368, 369, 370, 371, 372, 374, 375,\n",
       "       384, 385, 386, 387, 389, 391, 392, 393, 394, 395, 400, 401, 403,\n",
       "       404, 406, 407, 408, 409, 410, 411, 412, 413, 414, 415, 416, 417,\n",
       "       418, 421, 422, 426, 427, 431, 432, 434, 435, 436, 437, 438, 440,\n",
       "       441, 442, 443, 444, 449, 450, 451, 481, 482, 483, 490, 491, 492,\n",
       "       496, 497, 498, 500, 501, 502, 503, 504, 505, 507, 516, 517, 537,\n",
       "       538, 539, 551, 552, 558, 559, 560, 566, 567, 578, 579, 580, 581,\n",
       "       582, 583, 584, 585, 586, 587, 588, 589, 593, 594, 595, 596, 601,\n",
       "       602, 603, 604, 605, 606, 607, 611, 612, 616, 617, 618, 625, 626,\n",
       "       627, 628, 629, 630, 631, 632, 633, 638, 639, 640, 641, 642, 643,\n",
       "       644, 666, 667, 669, 670, 671, 672, 673, 674, 675, 676, 677, 678,\n",
       "       679, 685, 691, 693, 694, 695, 696, 697, 698, 699, 700, 701, 702,\n",
       "       706, 712, 713, 721, 722, 723, 726, 734, 739, 740, 743, 744, 745,\n",
       "       746, 748, 749, 750, 756, 757, 758, 764, 765, 769, 775, 776, 777,\n",
       "       778, 779, 780, 781, 782, 783, 784, 787, 788, 810, 811, 812, 813,\n",
       "       818, 819, 820, 821, 822, 823, 829, 830, 843, 844, 845, 846, 847,\n",
       "       848, 849, 859, 864, 865, 878, 879, 880, 881, 882, 883, 884, 885,\n",
       "       886, 887, 888, 889, 890, 891, 892, 899, 900, 901, 902, 903, 904,\n",
       "       908, 909, 910, 911, 912, 913, 914, 915, 918, 919, 920, 921, 931,\n",
       "       937, 938, 939, 940, 941, 942, 944, 948, 949, 950, 951, 977, 978,\n",
       "       982], dtype=int64)"
      ]
     },
     "execution_count": 122,
     "metadata": {},
     "output_type": "execute_result"
    }
   ],
   "source": [
    "db.core_sample_indices_"
   ]
  },
  {
   "cell_type": "code",
   "execution_count": 123,
   "metadata": {},
   "outputs": [
    {
     "data": {
      "text/html": [
       "<div>\n",
       "<style scoped>\n",
       "    .dataframe tbody tr th:only-of-type {\n",
       "        vertical-align: middle;\n",
       "    }\n",
       "\n",
       "    .dataframe tbody tr th {\n",
       "        vertical-align: top;\n",
       "    }\n",
       "\n",
       "    .dataframe thead th {\n",
       "        text-align: right;\n",
       "    }\n",
       "</style>\n",
       "<table border=\"1\" class=\"dataframe\">\n",
       "  <thead>\n",
       "    <tr style=\"text-align: right;\">\n",
       "      <th></th>\n",
       "      <th>acceY</th>\n",
       "      <th>anomaly</th>\n",
       "      <th>lat</th>\n",
       "      <th>lon</th>\n",
       "      <th>time</th>\n",
       "      <th>cluster</th>\n",
       "    </tr>\n",
       "  </thead>\n",
       "  <tbody>\n",
       "    <tr>\n",
       "      <th>6</th>\n",
       "      <td>10.262656</td>\n",
       "      <td>A</td>\n",
       "      <td>6.757848</td>\n",
       "      <td>79.951910</td>\n",
       "      <td>1538098935758</td>\n",
       "      <td>0</td>\n",
       "    </tr>\n",
       "    <tr>\n",
       "      <th>7</th>\n",
       "      <td>10.156688</td>\n",
       "      <td>A</td>\n",
       "      <td>6.757848</td>\n",
       "      <td>79.951910</td>\n",
       "      <td>1538098936060</td>\n",
       "      <td>0</td>\n",
       "    </tr>\n",
       "    <tr>\n",
       "      <th>15</th>\n",
       "      <td>10.071455</td>\n",
       "      <td>A</td>\n",
       "      <td>6.751704</td>\n",
       "      <td>79.954650</td>\n",
       "      <td>1538099033699</td>\n",
       "      <td>1</td>\n",
       "    </tr>\n",
       "    <tr>\n",
       "      <th>16</th>\n",
       "      <td>10.029700</td>\n",
       "      <td>A</td>\n",
       "      <td>6.751704</td>\n",
       "      <td>79.954650</td>\n",
       "      <td>1538099033998</td>\n",
       "      <td>1</td>\n",
       "    </tr>\n",
       "    <tr>\n",
       "      <th>18</th>\n",
       "      <td>10.049045</td>\n",
       "      <td>A</td>\n",
       "      <td>6.751611</td>\n",
       "      <td>79.954563</td>\n",
       "      <td>1538099035718</td>\n",
       "      <td>2</td>\n",
       "    </tr>\n",
       "  </tbody>\n",
       "</table>\n",
       "</div>"
      ],
      "text/plain": [
       "        acceY anomaly       lat        lon           time  cluster\n",
       "6   10.262656       A  6.757848  79.951910  1538098935758        0\n",
       "7   10.156688       A  6.757848  79.951910  1538098936060        0\n",
       "15  10.071455       A  6.751704  79.954650  1538099033699        1\n",
       "16  10.029700       A  6.751704  79.954650  1538099033998        1\n",
       "18  10.049045       A  6.751611  79.954563  1538099035718        2"
      ]
     },
     "execution_count": 123,
     "metadata": {},
     "output_type": "execute_result"
    }
   ],
   "source": [
    "result = raw_data\n",
    "result['cluster'] = db.labels_\n",
    "result = result.iloc[db.core_sample_indices_]\n",
    "result.head()"
   ]
  },
  {
   "cell_type": "code",
   "execution_count": 124,
   "metadata": {},
   "outputs": [
    {
     "data": {
      "text/plain": [
       "(417, 6)"
      ]
     },
     "execution_count": 124,
     "metadata": {},
     "output_type": "execute_result"
    }
   ],
   "source": [
    "result.shape"
   ]
  },
  {
   "cell_type": "code",
   "execution_count": 125,
   "metadata": {},
   "outputs": [
    {
     "data": {
      "text/plain": [
       "count    417.000000\n",
       "mean      26.676259\n",
       "std       13.890826\n",
       "min        0.000000\n",
       "25%       16.000000\n",
       "50%       29.000000\n",
       "75%       38.000000\n",
       "max       49.000000\n",
       "Name: cluster, dtype: float64"
      ]
     },
     "execution_count": 125,
     "metadata": {},
     "output_type": "execute_result"
    }
   ],
   "source": [
    "result['cluster'].describe()"
   ]
  },
  {
   "cell_type": "code",
   "execution_count": 126,
   "metadata": {},
   "outputs": [
    {
     "data": {
      "image/png": "[encoded data removed]",
      "text/plain": [
       "<Figure size 432x288 with 1 Axes>"
      ]
     },
     "metadata": {},
     "output_type": "display_data"
    }
   ],
   "source": [
    "x = result['lat']\n",
    "y = result['lon']\n",
    "c = result['cluster']\n",
    "\n",
    "#plt.scatter(x,y,c)\n",
    "plt.scatter(x,y,label=c)\n",
    "plt.xlabel(\"lat\")\n",
    "plt.ylabel(\"lon\")\n",
    "plt.show()"
   ]
  },
  {
   "cell_type": "code",
   "execution_count": 127,
   "metadata": {},
   "outputs": [
    {
     "data": {
      "text/plain": [
       "<matplotlib.legend.Legend at 0x1f5cee31c50>"
      ]
     },
     "execution_count": 127,
     "metadata": {},
     "output_type": "execute_result"
    },
    {
     "data": {
      "image/png": "[encoded data removed]",
      "text/plain": [
       "<Figure size 360x360 with 1 Axes>"
      ]
     },
     "metadata": {},
     "output_type": "display_data"
    }
   ],
   "source": [
    "import seaborn as sns\n",
    "#df = sns.load_dataset('iris')\n",
    " \n",
    "# Use the 'hue' argument to provide a factor variable\n",
    "sns.lmplot( x=\"lat\", y=\"lon\", data=result, fit_reg=False, hue='cluster', legend=False)\n",
    " \n",
    "# Move the legend to an empty part of the plot\n",
    "plt.legend(loc='lower right')\n"
   ]
  },
  {
   "cell_type": "code",
   "execution_count": 128,
   "metadata": {},
   "outputs": [],
   "source": [
    "result.to_json(\"Clustered_Data/dilum_sir_route.json\", orient='records')"
   ]
  },
  {
   "cell_type": "code",
   "execution_count": null,
   "metadata": {},
   "outputs": [],
   "source": []
  }
 ],
 "metadata": {
  "kernelspec": {
   "display_name": "Python 3",
   "language": "python",
   "name": "python3"
  },
  "language_info": {
   "codemirror_mode": {
    "name": "ipython",
    "version": 3
   },
   "file_extension": ".py",
   "mimetype": "text/x-python",
   "name": "python",
   "nbconvert_exporter": "python",
   "pygments_lexer": "ipython3",
   "version": "3.6.6"
  }
 },
 "nbformat": 4,
 "nbformat_minor": 2
}
