{
 "cells": [
  {
   "cell_type": "code",
   "execution_count": 1,
   "metadata": {},
   "outputs": [],
   "source": [
    "import pandas as pd\n",
    "import  numpy  as  np\n",
    "import matplotlib.pyplot as plt\n",
    "from sklearn.model_selection import train_test_split\n",
    "from sklearn.ensemble import RandomForestClassifier\n",
    "from sklearn import preprocessing\n",
    "from sklearn.model_selection import cross_val_score\n",
    "from sklearn.model_selection import GridSearchCV\n",
    "import seaborn as sns\n",
    "from imblearn.over_sampling import RandomOverSampler\n",
    "from imblearn.over_sampling import SMOTE\n",
    "from pandas_ml import ConfusionMatrix\n",
    "from scipy.fftpack import fft\n",
    "from geopandas import GeoDataFrame\n",
    "import geopandas\n",
    "from shapely.geometry import Point\n",
    "from sklearn.cluster import DBSCAN\n",
    "from sklearn import metrics"
   ]
  },
  {
   "cell_type": "code",
   "execution_count": 2,
   "metadata": {
    "scrolled": true
   },
   "outputs": [
    {
     "data": {
      "text/html": [
       "<div>\n",
       "<style scoped>\n",
       "    .dataframe tbody tr th:only-of-type {\n",
       "        vertical-align: middle;\n",
       "    }\n",
       "\n",
       "    .dataframe tbody tr th {\n",
       "        vertical-align: top;\n",
       "    }\n",
       "\n",
       "    .dataframe thead th {\n",
       "        text-align: right;\n",
       "    }\n",
       "</style>\n",
       "<table border=\"1\" class=\"dataframe\">\n",
       "  <thead>\n",
       "    <tr style=\"text-align: right;\">\n",
       "      <th></th>\n",
       "      <th>acceY</th>\n",
       "      <th>anomaly</th>\n",
       "      <th>lat</th>\n",
       "      <th>lon</th>\n",
       "      <th>time</th>\n",
       "    </tr>\n",
       "  </thead>\n",
       "  <tbody>\n",
       "    <tr>\n",
       "      <th>0</th>\n",
       "      <td>10.014616</td>\n",
       "      <td>A</td>\n",
       "      <td>6.761253</td>\n",
       "      <td>79.947881</td>\n",
       "      <td>1538098877180</td>\n",
       "    </tr>\n",
       "    <tr>\n",
       "      <th>1</th>\n",
       "      <td>10.115843</td>\n",
       "      <td>A</td>\n",
       "      <td>6.758759</td>\n",
       "      <td>79.948375</td>\n",
       "      <td>1538098907538</td>\n",
       "    </tr>\n",
       "    <tr>\n",
       "      <th>2</th>\n",
       "      <td>10.028455</td>\n",
       "      <td>A</td>\n",
       "      <td>6.758759</td>\n",
       "      <td>79.948375</td>\n",
       "      <td>1538098908240</td>\n",
       "    </tr>\n",
       "    <tr>\n",
       "      <th>3</th>\n",
       "      <td>10.260644</td>\n",
       "      <td>A</td>\n",
       "      <td>6.758699</td>\n",
       "      <td>79.948589</td>\n",
       "      <td>1538098910039</td>\n",
       "    </tr>\n",
       "    <tr>\n",
       "      <th>4</th>\n",
       "      <td>10.001304</td>\n",
       "      <td>A</td>\n",
       "      <td>6.758699</td>\n",
       "      <td>79.948589</td>\n",
       "      <td>1538098910139</td>\n",
       "    </tr>\n",
       "  </tbody>\n",
       "</table>\n",
       "</div>"
      ],
      "text/plain": [
       "       acceY anomaly       lat        lon           time\n",
       "0  10.014616       A  6.761253  79.947881  1538098877180\n",
       "1  10.115843       A  6.758759  79.948375  1538098907538\n",
       "2  10.028455       A  6.758759  79.948375  1538098908240\n",
       "3  10.260644       A  6.758699  79.948589  1538098910039\n",
       "4  10.001304       A  6.758699  79.948589  1538098910139"
      ]
     },
     "execution_count": 2,
     "metadata": {},
     "output_type": "execute_result"
    }
   ],
   "source": [
    "raw_data_file_name= \"Data_to_Clustered/dilum_sir_route.json\"\n",
    "raw_data = pd.read_json(raw_data_file_name)\n",
    "raw_data.head(5)"
   ]
  },
  {
   "cell_type": "code",
   "execution_count": 3,
   "metadata": {},
   "outputs": [
    {
     "data": {
      "text/plain": [
       "(1151, 5)"
      ]
     },
     "execution_count": 3,
     "metadata": {},
     "output_type": "execute_result"
    }
   ],
   "source": [
    "raw_data.shape"
   ]
  },
  {
   "cell_type": "code",
   "execution_count": 4,
   "metadata": {},
   "outputs": [],
   "source": [
    "#features = ['lat','lon',]\n",
    "#coordinates = raw_data[features]\n",
    "#coordinates.head()"
   ]
  },
  {
   "cell_type": "code",
   "execution_count": 5,
   "metadata": {},
   "outputs": [],
   "source": [
    "#coordinates.shape"
   ]
  },
  {
   "cell_type": "code",
   "execution_count": 6,
   "metadata": {},
   "outputs": [],
   "source": [
    "#coordinates['coordinates'] = list(zip(coordinates.lon, coordinates.lat))"
   ]
  },
  {
   "cell_type": "code",
   "execution_count": 7,
   "metadata": {},
   "outputs": [],
   "source": [
    "#coordinates.head()"
   ]
  },
  {
   "cell_type": "code",
   "execution_count": 8,
   "metadata": {},
   "outputs": [],
   "source": [
    "#coordinates['coordinates'] = coordinates['coordinates'].apply(Point)"
   ]
  },
  {
   "cell_type": "code",
   "execution_count": 9,
   "metadata": {},
   "outputs": [],
   "source": [
    "#coordinates.head()"
   ]
  },
  {
   "cell_type": "code",
   "execution_count": 10,
   "metadata": {
    "scrolled": true
   },
   "outputs": [],
   "source": [
    "#gdf = GeoDataFrame(coordinates, geometry='coordinates')\n",
    "#gdf.plot()"
   ]
  },
  {
   "cell_type": "code",
   "execution_count": 11,
   "metadata": {},
   "outputs": [],
   "source": [
    "#print(gdf.head())"
   ]
  },
  {
   "cell_type": "code",
   "execution_count": 12,
   "metadata": {
    "scrolled": true
   },
   "outputs": [],
   "source": [
    "#world = geopandas.read_file(geopandas.datasets.get_path('naturalearth_lowres'))\n",
    "\n",
    "# We restrict to South America.\n",
    "#ax = world[world.continent == 'Asia'].plot(\n",
    "    #color='white', edgecolor='black')\n",
    "\n",
    "# We can now plot our GeoDataFrame.\n",
    "#gdf.plot(ax=ax, color='red')\n",
    "\n",
    "#plt.show()"
   ]
  },
  {
   "cell_type": "code",
   "execution_count": 13,
   "metadata": {},
   "outputs": [],
   "source": [
    "#gdf.plot()"
   ]
  },
  {
   "cell_type": "code",
   "execution_count": 14,
   "metadata": {},
   "outputs": [],
   "source": [
    "#kms_per_radian = 6371.0088\n",
    "#epsilon = 0.01 / kms_per_radian\n",
    "#print(epsilon)"
   ]
  },
  {
   "cell_type": "code",
   "execution_count": 15,
   "metadata": {
    "scrolled": true
   },
   "outputs": [],
   "source": [
    "kms_per_radian = 6371.0088\n",
    "epsilon = 0.005 / kms_per_radian\n",
    "coords = raw_data.as_matrix(columns=['lat', 'lon'])\n",
    "#print(coords)"
   ]
  },
  {
   "cell_type": "code",
   "execution_count": 16,
   "metadata": {},
   "outputs": [],
   "source": [
    "db = DBSCAN(eps = epsilon, min_samples=7, algorithm='ball_tree',metric='haversine').fit(np.radians(coords))"
   ]
  },
  {
   "cell_type": "code",
   "execution_count": 17,
   "metadata": {
    "scrolled": true
   },
   "outputs": [],
   "source": [
    "cluster_labels = db.labels_\n",
    "n_clusters = len(set(cluster_labels))"
   ]
  },
  {
   "cell_type": "code",
   "execution_count": 18,
   "metadata": {},
   "outputs": [
    {
     "data": {
      "text/plain": [
       "array([-1, -1, -1, ..., -1, 27, -1], dtype=int64)"
      ]
     },
     "execution_count": 18,
     "metadata": {},
     "output_type": "execute_result"
    }
   ],
   "source": [
    "cluster_labels "
   ]
  },
  {
   "cell_type": "code",
   "execution_count": 19,
   "metadata": {},
   "outputs": [
    {
     "data": {
      "text/plain": [
       "DBSCAN(algorithm='ball_tree', eps=7.848050688613082e-07, leaf_size=30,\n",
       "    metric='haversine', metric_params=None, min_samples=7, n_jobs=1,\n",
       "    p=None)"
      ]
     },
     "execution_count": 19,
     "metadata": {},
     "output_type": "execute_result"
    }
   ],
   "source": [
    "db"
   ]
  },
  {
   "cell_type": "code",
   "execution_count": 20,
   "metadata": {},
   "outputs": [
    {
     "data": {
      "image/png": "[encoded data removed]",
      "text/plain": [
       "<Figure size 432x288 with 1 Axes>"
      ]
     },
     "metadata": {},
     "output_type": "display_data"
    }
   ],
   "source": [
    "x = raw_data['lat']\n",
    "y = raw_data['lon']\n",
    "\n",
    "plt.scatter(x,y)\n",
    "plt.xlabel(\"lat\")\n",
    "plt.ylabel(\"lon\")\n",
    "plt.show()"
   ]
  },
  {
   "cell_type": "code",
   "execution_count": 21,
   "metadata": {
    "scrolled": true
   },
   "outputs": [
    {
     "data": {
      "text/plain": [
       "array([  22,   23,   24,   25,   26,   30,   31,   32,   33,   34,   35,\n",
       "         36,   37,   56,   76,   77,   78,   79,   86,   87,   88,   91,\n",
       "         92,   93,  105,  106,  107,  112,  113,  114,  115,  116,  121,\n",
       "        122,  123,  155,  156,  157,  174,  180,  181,  182,  184,  226,\n",
       "        227,  274,  275,  276,  277,  278,  280,  281,  282,  283,  284,\n",
       "        285,  286,  287,  288,  293,  294,  295,  296,  301,  302,  303,\n",
       "        304,  305,  306,  307,  308,  312,  313,  320,  321,  331,  332,\n",
       "        333,  334,  335,  336,  345,  346,  347,  348,  349,  350,  351,\n",
       "        381,  382,  383,  390,  391,  392,  393,  394,  395,  396,  397,\n",
       "        420,  421,  422,  423,  424,  428,  429,  430,  431,  432,  433,\n",
       "        434,  435,  454,  474,  475,  476,  477,  484,  485,  486,  489,\n",
       "        490,  491,  503,  504,  505,  510,  511,  512,  513,  514,  519,\n",
       "        520,  521,  553,  554,  555,  572,  578,  579,  580,  582,  624,\n",
       "        625,  672,  673,  674,  675,  676,  678,  679,  680,  681,  682,\n",
       "        683,  684,  685,  686,  691,  692,  693,  694,  699,  700,  701,\n",
       "        702,  703,  704,  705,  706,  710,  711,  718,  719,  729,  730,\n",
       "        731,  732,  733,  734,  743,  744,  745,  746,  747,  748,  749,\n",
       "        779,  780,  781,  788,  789,  790,  791,  792,  793,  794,  795,\n",
       "        809,  811,  812,  813,  814,  815,  816,  817,  818,  819,  820,\n",
       "        869,  870,  871,  875,  876,  877,  886,  887,  888,  909,  910,\n",
       "        911,  912,  913,  914,  915,  916,  917,  918,  921,  922,  952,\n",
       "        953,  954,  955,  966,  967,  968,  994,  995,  996, 1030, 1031,\n",
       "       1032, 1033, 1034, 1035, 1036, 1037, 1038, 1039, 1040, 1041, 1042,\n",
       "       1043, 1044, 1045, 1054, 1055, 1056, 1057, 1058, 1059, 1066, 1067,\n",
       "       1068, 1069, 1070, 1071, 1072, 1075, 1076, 1077, 1078, 1096, 1097,\n",
       "       1098, 1099, 1100, 1105, 1109, 1110, 1111, 1112, 1113, 1144, 1145,\n",
       "       1149], dtype=int64)"
      ]
     },
     "execution_count": 21,
     "metadata": {},
     "output_type": "execute_result"
    }
   ],
   "source": [
    "db.core_sample_indices_"
   ]
  },
  {
   "cell_type": "code",
   "execution_count": 22,
   "metadata": {},
   "outputs": [
    {
     "data": {
      "text/html": [
       "<div>\n",
       "<style scoped>\n",
       "    .dataframe tbody tr th:only-of-type {\n",
       "        vertical-align: middle;\n",
       "    }\n",
       "\n",
       "    .dataframe tbody tr th {\n",
       "        vertical-align: top;\n",
       "    }\n",
       "\n",
       "    .dataframe thead th {\n",
       "        text-align: right;\n",
       "    }\n",
       "</style>\n",
       "<table border=\"1\" class=\"dataframe\">\n",
       "  <thead>\n",
       "    <tr style=\"text-align: right;\">\n",
       "      <th></th>\n",
       "      <th>acceY</th>\n",
       "      <th>anomaly</th>\n",
       "      <th>lat</th>\n",
       "      <th>lon</th>\n",
       "      <th>time</th>\n",
       "      <th>cluster</th>\n",
       "    </tr>\n",
       "  </thead>\n",
       "  <tbody>\n",
       "    <tr>\n",
       "      <th>22</th>\n",
       "      <td>10.049045</td>\n",
       "      <td>A</td>\n",
       "      <td>6.751611</td>\n",
       "      <td>79.954563</td>\n",
       "      <td>1538099035718</td>\n",
       "      <td>0</td>\n",
       "    </tr>\n",
       "    <tr>\n",
       "      <th>23</th>\n",
       "      <td>10.021320</td>\n",
       "      <td>A</td>\n",
       "      <td>6.751611</td>\n",
       "      <td>79.954563</td>\n",
       "      <td>1538099036418</td>\n",
       "      <td>0</td>\n",
       "    </tr>\n",
       "    <tr>\n",
       "      <th>24</th>\n",
       "      <td>10.019883</td>\n",
       "      <td>A</td>\n",
       "      <td>6.751562</td>\n",
       "      <td>79.954525</td>\n",
       "      <td>1538099037119</td>\n",
       "      <td>1</td>\n",
       "    </tr>\n",
       "    <tr>\n",
       "      <th>25</th>\n",
       "      <td>10.029412</td>\n",
       "      <td>A</td>\n",
       "      <td>6.751562</td>\n",
       "      <td>79.954525</td>\n",
       "      <td>1538099037320</td>\n",
       "      <td>1</td>\n",
       "    </tr>\n",
       "    <tr>\n",
       "      <th>26</th>\n",
       "      <td>10.089938</td>\n",
       "      <td>A</td>\n",
       "      <td>6.751562</td>\n",
       "      <td>79.954525</td>\n",
       "      <td>1538099037421</td>\n",
       "      <td>1</td>\n",
       "    </tr>\n",
       "  </tbody>\n",
       "</table>\n",
       "</div>"
      ],
      "text/plain": [
       "        acceY anomaly       lat        lon           time  cluster\n",
       "22  10.049045       A  6.751611  79.954563  1538099035718        0\n",
       "23  10.021320       A  6.751611  79.954563  1538099036418        0\n",
       "24  10.019883       A  6.751562  79.954525  1538099037119        1\n",
       "25  10.029412       A  6.751562  79.954525  1538099037320        1\n",
       "26  10.089938       A  6.751562  79.954525  1538099037421        1"
      ]
     },
     "execution_count": 22,
     "metadata": {},
     "output_type": "execute_result"
    }
   ],
   "source": [
    "result = raw_data\n",
    "result['cluster'] = db.labels_\n",
    "result = result.iloc[db.core_sample_indices_]\n",
    "result.head()"
   ]
  },
  {
   "cell_type": "code",
   "execution_count": 23,
   "metadata": {},
   "outputs": [
    {
     "data": {
      "text/plain": [
       "(287, 6)"
      ]
     },
     "execution_count": 23,
     "metadata": {},
     "output_type": "execute_result"
    }
   ],
   "source": [
    "result.shape"
   ]
  },
  {
   "cell_type": "code",
   "execution_count": 24,
   "metadata": {},
   "outputs": [
    {
     "data": {
      "text/plain": [
       "count    287.000000\n",
       "mean      13.362369\n",
       "std        6.898949\n",
       "min        0.000000\n",
       "25%        8.000000\n",
       "50%       15.000000\n",
       "75%       18.000000\n",
       "max       27.000000\n",
       "Name: cluster, dtype: float64"
      ]
     },
     "execution_count": 24,
     "metadata": {},
     "output_type": "execute_result"
    }
   ],
   "source": [
    "result['cluster'].describe()"
   ]
  },
  {
   "cell_type": "code",
   "execution_count": 25,
   "metadata": {},
   "outputs": [
    {
     "data": {
      "image/png": "[encoded data removed]",
      "text/plain": [
       "<Figure size 432x288 with 1 Axes>"
      ]
     },
     "metadata": {},
     "output_type": "display_data"
    }
   ],
   "source": [
    "x = result['lat']\n",
    "y = result['lon']\n",
    "c = result['cluster']\n",
    "\n",
    "#plt.scatter(x,y,c)\n",
    "plt.scatter(x,y,label=c)\n",
    "plt.xlabel(\"lat\")\n",
    "plt.ylabel(\"lon\")\n",
    "plt.show()"
   ]
  },
  {
   "cell_type": "code",
   "execution_count": 26,
   "metadata": {},
   "outputs": [
    {
     "data": {
      "text/plain": [
       "<matplotlib.legend.Legend at 0x1a1429ddbe0>"
      ]
     },
     "execution_count": 26,
     "metadata": {},
     "output_type": "execute_result"
    },
    {
     "data": {
      "image/png": "[encoded data removed]",
      "text/plain": [
       "<Figure size 360x360 with 1 Axes>"
      ]
     },
     "metadata": {},
     "output_type": "display_data"
    }
   ],
   "source": [
    "import seaborn as sns\n",
    "#df = sns.load_dataset('iris')\n",
    " \n",
    "# Use the 'hue' argument to provide a factor variable\n",
    "sns.lmplot( x=\"lat\", y=\"lon\", data=result, fit_reg=False, hue='cluster', legend=False)\n",
    " \n",
    "# Move the legend to an empty part of the plot\n",
    "plt.legend(loc='lower right')\n"
   ]
  },
  {
   "cell_type": "code",
   "execution_count": 27,
   "metadata": {},
   "outputs": [],
   "source": [
    "result.to_json(\"Clustered_Data/dilum_sir_route.json\", orient='records')"
   ]
  },
  {
   "cell_type": "code",
   "execution_count": null,
   "metadata": {},
   "outputs": [],
   "source": []
  }
 ],
 "metadata": {
  "kernelspec": {
   "display_name": "Python 3",
   "language": "python",
   "name": "python3"
  },
  "language_info": {
   "codemirror_mode": {
    "name": "ipython",
    "version": 3
   },
   "file_extension": ".py",
   "mimetype": "text/x-python",
   "name": "python",
   "nbconvert_exporter": "python",
   "pygments_lexer": "ipython3",
   "version": "3.6.6"
  }
 },
 "nbformat": 4,
 "nbformat_minor": 2
}
