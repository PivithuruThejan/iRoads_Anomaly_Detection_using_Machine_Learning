{
 "cells": [
  {
   "cell_type": "code",
   "execution_count": 1,
   "metadata": {},
   "outputs": [],
   "source": [
    "import pandas as pd\n",
    "import  numpy  as  np\n",
    "import matplotlib.pyplot as plt\n",
    "from sklearn.model_selection import train_test_split\n",
    "from sklearn.ensemble import RandomForestClassifier\n",
    "from sklearn import preprocessing\n",
    "from sklearn.model_selection import cross_val_score\n",
    "from sklearn.model_selection import GridSearchCV\n",
    "import seaborn as sns\n",
    "from imblearn.over_sampling import RandomOverSampler\n",
    "from imblearn.over_sampling import SMOTE\n",
    "from pandas_ml import ConfusionMatrix\n",
    "from scipy.fftpack import fft"
   ]
  },
  {
   "cell_type": "code",
   "execution_count": 2,
   "metadata": {},
   "outputs": [
    {
     "data": {
      "text/html": [
       "<div>\n",
       "<style scoped>\n",
       "    .dataframe tbody tr th:only-of-type {\n",
       "        vertical-align: middle;\n",
       "    }\n",
       "\n",
       "    .dataframe tbody tr th {\n",
       "        vertical-align: top;\n",
       "    }\n",
       "\n",
       "    .dataframe thead th {\n",
       "        text-align: right;\n",
       "    }\n",
       "</style>\n",
       "<table border=\"1\" class=\"dataframe\">\n",
       "  <thead>\n",
       "    <tr style=\"text-align: right;\">\n",
       "      <th></th>\n",
       "      <th>acceX</th>\n",
       "      <th>acceX_raw</th>\n",
       "      <th>acceY</th>\n",
       "      <th>acceY_raw</th>\n",
       "      <th>acceZ</th>\n",
       "      <th>acceZ_raw</th>\n",
       "      <th>anomaly</th>\n",
       "      <th>count</th>\n",
       "      <th>dataType</th>\n",
       "      <th>gpsSpeed</th>\n",
       "      <th>...</th>\n",
       "      <th>imei</th>\n",
       "      <th>journeyID</th>\n",
       "      <th>lat</th>\n",
       "      <th>lon</th>\n",
       "      <th>magnetX</th>\n",
       "      <th>magnetY</th>\n",
       "      <th>magnetZ</th>\n",
       "      <th>obdRpm</th>\n",
       "      <th>obdSpeed</th>\n",
       "      <th>time</th>\n",
       "    </tr>\n",
       "  </thead>\n",
       "  <tbody>\n",
       "    <tr>\n",
       "      <th>0</th>\n",
       "      <td>2.220446e-17</td>\n",
       "      <td>-0.143652</td>\n",
       "      <td>9.779027</td>\n",
       "      <td>9.873688</td>\n",
       "      <td>-0.014639</td>\n",
       "      <td>-1.465251</td>\n",
       "      <td>N</td>\n",
       "      <td>0</td>\n",
       "      <td>data_item</td>\n",
       "      <td>3682.371238</td>\n",
       "      <td>...</td>\n",
       "      <td>353424070112284</td>\n",
       "      <td>3.534241e+27</td>\n",
       "      <td>6.035515</td>\n",
       "      <td>80.269212</td>\n",
       "      <td></td>\n",
       "      <td></td>\n",
       "      <td></td>\n",
       "      <td>0</td>\n",
       "      <td>0</td>\n",
       "      <td>1537579764266</td>\n",
       "    </tr>\n",
       "    <tr>\n",
       "      <th>1</th>\n",
       "      <td>0.000000e+00</td>\n",
       "      <td>-0.208296</td>\n",
       "      <td>9.807997</td>\n",
       "      <td>9.774328</td>\n",
       "      <td>0.018061</td>\n",
       "      <td>-1.477222</td>\n",
       "      <td>N</td>\n",
       "      <td>0</td>\n",
       "      <td>data_item</td>\n",
       "      <td>3682.371238</td>\n",
       "      <td>...</td>\n",
       "      <td>353424070112284</td>\n",
       "      <td>3.534241e+27</td>\n",
       "      <td>6.035515</td>\n",
       "      <td>80.269212</td>\n",
       "      <td></td>\n",
       "      <td></td>\n",
       "      <td></td>\n",
       "      <td>0</td>\n",
       "      <td>0</td>\n",
       "      <td>1537579764366</td>\n",
       "    </tr>\n",
       "    <tr>\n",
       "      <th>10</th>\n",
       "      <td>-3.053113e-17</td>\n",
       "      <td>-0.427365</td>\n",
       "      <td>9.793919</td>\n",
       "      <td>9.749189</td>\n",
       "      <td>0.023217</td>\n",
       "      <td>-1.158794</td>\n",
       "      <td>N</td>\n",
       "      <td>0</td>\n",
       "      <td>data_item</td>\n",
       "      <td>40.863882</td>\n",
       "      <td>...</td>\n",
       "      <td>353424070112284</td>\n",
       "      <td>3.534241e+27</td>\n",
       "      <td>6.035475</td>\n",
       "      <td>80.269112</td>\n",
       "      <td></td>\n",
       "      <td></td>\n",
       "      <td></td>\n",
       "      <td>0</td>\n",
       "      <td>0</td>\n",
       "      <td>1537579765266</td>\n",
       "    </tr>\n",
       "    <tr>\n",
       "      <th>100</th>\n",
       "      <td>0.000000e+00</td>\n",
       "      <td>0.453701</td>\n",
       "      <td>9.758101</td>\n",
       "      <td>9.670180</td>\n",
       "      <td>-0.028095</td>\n",
       "      <td>-0.386664</td>\n",
       "      <td>N</td>\n",
       "      <td>0</td>\n",
       "      <td>data_item</td>\n",
       "      <td>37.668356</td>\n",
       "      <td>...</td>\n",
       "      <td>353424070112284</td>\n",
       "      <td>3.534241e+27</td>\n",
       "      <td>6.035197</td>\n",
       "      <td>80.268443</td>\n",
       "      <td></td>\n",
       "      <td></td>\n",
       "      <td></td>\n",
       "      <td>0</td>\n",
       "      <td>0</td>\n",
       "      <td>1537579774286</td>\n",
       "    </tr>\n",
       "    <tr>\n",
       "      <th>1000</th>\n",
       "      <td>-7.632783e-18</td>\n",
       "      <td>0.592565</td>\n",
       "      <td>9.776202</td>\n",
       "      <td>9.724051</td>\n",
       "      <td>-0.499612</td>\n",
       "      <td>0.069432</td>\n",
       "      <td>N</td>\n",
       "      <td>0</td>\n",
       "      <td>data_item</td>\n",
       "      <td>84.879433</td>\n",
       "      <td>...</td>\n",
       "      <td>353424070112284</td>\n",
       "      <td>3.534241e+27</td>\n",
       "      <td>6.032321</td>\n",
       "      <td>80.259437</td>\n",
       "      <td></td>\n",
       "      <td></td>\n",
       "      <td></td>\n",
       "      <td>0</td>\n",
       "      <td>0</td>\n",
       "      <td>1537579865466</td>\n",
       "    </tr>\n",
       "  </tbody>\n",
       "</table>\n",
       "<p>5 rows × 24 columns</p>\n",
       "</div>"
      ],
      "text/plain": [
       "             acceX  acceX_raw     acceY  acceY_raw     acceZ  acceZ_raw  \\\n",
       "0     2.220446e-17  -0.143652  9.779027   9.873688 -0.014639  -1.465251   \n",
       "1     0.000000e+00  -0.208296  9.807997   9.774328  0.018061  -1.477222   \n",
       "10   -3.053113e-17  -0.427365  9.793919   9.749189  0.023217  -1.158794   \n",
       "100   0.000000e+00   0.453701  9.758101   9.670180 -0.028095  -0.386664   \n",
       "1000 -7.632783e-18   0.592565  9.776202   9.724051 -0.499612   0.069432   \n",
       "\n",
       "     anomaly  count   dataType     gpsSpeed      ...                   imei  \\\n",
       "0          N      0  data_item  3682.371238      ...        353424070112284   \n",
       "1          N      0  data_item  3682.371238      ...        353424070112284   \n",
       "10         N      0  data_item    40.863882      ...        353424070112284   \n",
       "100        N      0  data_item    37.668356      ...        353424070112284   \n",
       "1000       N      0  data_item    84.879433      ...        353424070112284   \n",
       "\n",
       "         journeyID       lat        lon  magnetX  magnetY  magnetZ  obdRpm  \\\n",
       "0     3.534241e+27  6.035515  80.269212                                  0   \n",
       "1     3.534241e+27  6.035515  80.269212                                  0   \n",
       "10    3.534241e+27  6.035475  80.269112                                  0   \n",
       "100   3.534241e+27  6.035197  80.268443                                  0   \n",
       "1000  3.534241e+27  6.032321  80.259437                                  0   \n",
       "\n",
       "     obdSpeed           time  \n",
       "0           0  1537579764266  \n",
       "1           0  1537579764366  \n",
       "10          0  1537579765266  \n",
       "100         0  1537579774286  \n",
       "1000        0  1537579865466  \n",
       "\n",
       "[5 rows x 24 columns]"
      ]
     },
     "execution_count": 2,
     "metadata": {},
     "output_type": "execute_result"
    }
   ],
   "source": [
    "raw_data_file_name= \"Predicted_Data/home_to_karapitiya.json\"\n",
    "raw_data = pd.read_json(raw_data_file_name)\n",
    "raw_data.head(5)"
   ]
  },
  {
   "cell_type": "code",
   "execution_count": 3,
   "metadata": {},
   "outputs": [
    {
     "data": {
      "text/plain": [
       "(4525, 24)"
      ]
     },
     "execution_count": 3,
     "metadata": {},
     "output_type": "execute_result"
    }
   ],
   "source": [
    "raw_data.shape"
   ]
  },
  {
   "cell_type": "code",
   "execution_count": 4,
   "metadata": {
    "scrolled": true
   },
   "outputs": [
    {
     "name": "stderr",
     "output_type": "stream",
     "text": [
      "C:\\Users\\User\\Anaconda3\\lib\\site-packages\\ipykernel_launcher.py:3: SettingWithCopyWarning: \n",
      "A value is trying to be set on a copy of a slice from a DataFrame.\n",
      "Try using .loc[row_indexer,col_indexer] = value instead\n",
      "\n",
      "See the caveats in the documentation: http://pandas.pydata.org/pandas-docs/stable/indexing.html#indexing-view-versus-copy\n",
      "  This is separate from the ipykernel package so we can avoid doing imports until\n",
      "C:\\Users\\User\\Anaconda3\\lib\\site-packages\\pandas\\core\\indexing.py:194: SettingWithCopyWarning: \n",
      "A value is trying to be set on a copy of a slice from a DataFrame\n",
      "\n",
      "See the caveats in the documentation: http://pandas.pydata.org/pandas-docs/stable/indexing.html#indexing-view-versus-copy\n",
      "  self._setitem_with_indexer(indexer, value)\n",
      "C:\\Users\\User\\Anaconda3\\lib\\site-packages\\ipykernel_launcher.py:9: SettingWithCopyWarning: \n",
      "A value is trying to be set on a copy of a slice from a DataFrame\n",
      "\n",
      "See the caveats in the documentation: http://pandas.pydata.org/pandas-docs/stable/indexing.html#indexing-view-versus-copy\n",
      "  if __name__ == '__main__':\n"
     ]
    }
   ],
   "source": [
    "tag_features = ['time','anomaly',]\n",
    "tag_data = raw_data[tag_features]\n",
    "tag_data['value'] = 0\n",
    "i = -1\n",
    "for index, row in tag_data.iterrows():\n",
    "    i = i+1\n",
    "    if row['anomaly'] == 'A':\n",
    "        row['value'] = 1\n",
    "        tag_data.value.iloc[[i]] = 1\n",
    "    \n",
    "#tag_data.head()"
   ]
  },
  {
   "cell_type": "markdown",
   "metadata": {},
   "source": [
    "# Actual Signal"
   ]
  },
  {
   "cell_type": "code",
   "execution_count": 5,
   "metadata": {
    "scrolled": true
   },
   "outputs": [
    {
     "data": {
      "image/png": "[encoded data removed]",
      "text/plain": [
       "<matplotlib.figure.Figure at 0x263ec2b7fd0>"
      ]
     },
     "metadata": {},
     "output_type": "display_data"
    }
   ],
   "source": [
    "plt.plot(raw_data.time, raw_data.acceY)\n",
    "plt.show()"
   ]
  },
  {
   "cell_type": "markdown",
   "metadata": {},
   "source": [
    "# Anomaly Places"
   ]
  },
  {
   "cell_type": "code",
   "execution_count": 6,
   "metadata": {
    "scrolled": true
   },
   "outputs": [
    {
     "data": {
      "image/png": "[encoded data removed]",
      "text/plain": [
       "<matplotlib.figure.Figure at 0x263ed03fda0>"
      ]
     },
     "metadata": {},
     "output_type": "display_data"
    }
   ],
   "source": [
    "plt.plot(tag_data.time, tag_data.value)\n",
    "plt.show()"
   ]
  },
  {
   "cell_type": "code",
   "execution_count": null,
   "metadata": {},
   "outputs": [],
   "source": []
  }
 ],
 "metadata": {
  "kernelspec": {
   "display_name": "Python 3",
   "language": "python",
   "name": "python3"
  },
  "language_info": {
   "codemirror_mode": {
    "name": "ipython",
    "version": 3
   },
   "file_extension": ".py",
   "mimetype": "text/x-python",
   "name": "python",
   "nbconvert_exporter": "python",
   "pygments_lexer": "ipython3",
   "version": "3.6.4"
  }
 },
 "nbformat": 4,
 "nbformat_minor": 2
}
