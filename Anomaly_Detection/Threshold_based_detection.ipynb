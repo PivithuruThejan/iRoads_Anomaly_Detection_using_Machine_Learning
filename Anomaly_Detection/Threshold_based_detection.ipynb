{
 "cells": [
  {
   "cell_type": "code",
   "execution_count": 45,
   "metadata": {},
   "outputs": [],
   "source": [
    "import pandas as pd\n",
    "import  numpy  as  np\n",
    "import matplotlib.pyplot as plt\n",
    "from sklearn.model_selection import train_test_split\n",
    "from sklearn.ensemble import RandomForestClassifier\n",
    "from sklearn import preprocessing\n",
    "from sklearn.model_selection import cross_val_score\n",
    "from sklearn.model_selection import GridSearchCV\n",
    "import seaborn as sns\n",
    "from imblearn.over_sampling import RandomOverSampler\n",
    "from imblearn.over_sampling import SMOTE\n",
    "from pandas_ml import ConfusionMatrix"
   ]
  },
  {
   "cell_type": "code",
   "execution_count": 46,
   "metadata": {},
   "outputs": [
    {
     "data": {
      "text/html": [
       "<div>\n",
       "<style scoped>\n",
       "    .dataframe tbody tr th:only-of-type {\n",
       "        vertical-align: middle;\n",
       "    }\n",
       "\n",
       "    .dataframe tbody tr th {\n",
       "        vertical-align: top;\n",
       "    }\n",
       "\n",
       "    .dataframe thead th {\n",
       "        text-align: right;\n",
       "    }\n",
       "</style>\n",
       "<table border=\"1\" class=\"dataframe\">\n",
       "  <thead>\n",
       "    <tr style=\"text-align: right;\">\n",
       "      <th></th>\n",
       "      <th>acceX</th>\n",
       "      <th>acceX_raw</th>\n",
       "      <th>acceY</th>\n",
       "      <th>acceY_raw</th>\n",
       "      <th>acceZ</th>\n",
       "      <th>acceZ_raw</th>\n",
       "      <th>count</th>\n",
       "      <th>dataType</th>\n",
       "      <th>gpsSpeed</th>\n",
       "      <th>gyroX</th>\n",
       "      <th>...</th>\n",
       "      <th>imei</th>\n",
       "      <th>journeyID</th>\n",
       "      <th>lat</th>\n",
       "      <th>lon</th>\n",
       "      <th>magnetX</th>\n",
       "      <th>magnetY</th>\n",
       "      <th>magnetZ</th>\n",
       "      <th>obdRpm</th>\n",
       "      <th>obdSpeed</th>\n",
       "      <th>time</th>\n",
       "    </tr>\n",
       "  </thead>\n",
       "  <tbody>\n",
       "    <tr>\n",
       "      <th>0</th>\n",
       "      <td>4.440892e-17</td>\n",
       "      <td>1.479617</td>\n",
       "      <td>9.588400</td>\n",
       "      <td>9.204509</td>\n",
       "      <td>-0.021760</td>\n",
       "      <td>-4.194642</td>\n",
       "      <td>0</td>\n",
       "      <td>data_item</td>\n",
       "      <td>5.677904</td>\n",
       "      <td></td>\n",
       "      <td>...</td>\n",
       "      <td>357157095431042</td>\n",
       "      <td>3.571571e+27</td>\n",
       "      <td>6.798864</td>\n",
       "      <td>79.94107</td>\n",
       "      <td></td>\n",
       "      <td></td>\n",
       "      <td></td>\n",
       "      <td>0</td>\n",
       "      <td>0</td>\n",
       "      <td>1538703168153</td>\n",
       "    </tr>\n",
       "    <tr>\n",
       "      <th>1</th>\n",
       "      <td>-4.440892e-17</td>\n",
       "      <td>0.910994</td>\n",
       "      <td>9.989286</td>\n",
       "      <td>9.300277</td>\n",
       "      <td>0.178993</td>\n",
       "      <td>-2.636016</td>\n",
       "      <td>0</td>\n",
       "      <td>data_item</td>\n",
       "      <td>5.677904</td>\n",
       "      <td></td>\n",
       "      <td>...</td>\n",
       "      <td>357157095431042</td>\n",
       "      <td>3.571571e+27</td>\n",
       "      <td>6.798864</td>\n",
       "      <td>79.94107</td>\n",
       "      <td></td>\n",
       "      <td></td>\n",
       "      <td></td>\n",
       "      <td>0</td>\n",
       "      <td>0</td>\n",
       "      <td>1538703168245</td>\n",
       "    </tr>\n",
       "    <tr>\n",
       "      <th>2</th>\n",
       "      <td>-2.220446e-17</td>\n",
       "      <td>-0.375890</td>\n",
       "      <td>9.766290</td>\n",
       "      <td>9.558850</td>\n",
       "      <td>0.056706</td>\n",
       "      <td>-2.105701</td>\n",
       "      <td>0</td>\n",
       "      <td>data_item</td>\n",
       "      <td>5.677904</td>\n",
       "      <td></td>\n",
       "      <td>...</td>\n",
       "      <td>357157095431042</td>\n",
       "      <td>3.571571e+27</td>\n",
       "      <td>6.798864</td>\n",
       "      <td>79.94107</td>\n",
       "      <td></td>\n",
       "      <td></td>\n",
       "      <td></td>\n",
       "      <td>0</td>\n",
       "      <td>0</td>\n",
       "      <td>1538703168345</td>\n",
       "    </tr>\n",
       "    <tr>\n",
       "      <th>3</th>\n",
       "      <td>0.000000e+00</td>\n",
       "      <td>-0.184354</td>\n",
       "      <td>9.623499</td>\n",
       "      <td>8.911219</td>\n",
       "      <td>-0.000651</td>\n",
       "      <td>-1.795651</td>\n",
       "      <td>0</td>\n",
       "      <td>data_item</td>\n",
       "      <td>5.677904</td>\n",
       "      <td></td>\n",
       "      <td>...</td>\n",
       "      <td>357157095431042</td>\n",
       "      <td>3.571571e+27</td>\n",
       "      <td>6.798864</td>\n",
       "      <td>79.94107</td>\n",
       "      <td></td>\n",
       "      <td></td>\n",
       "      <td></td>\n",
       "      <td>0</td>\n",
       "      <td>0</td>\n",
       "      <td>1538703168465</td>\n",
       "    </tr>\n",
       "    <tr>\n",
       "      <th>4</th>\n",
       "      <td>-4.440892e-17</td>\n",
       "      <td>0.210690</td>\n",
       "      <td>9.883606</td>\n",
       "      <td>9.549273</td>\n",
       "      <td>-0.063780</td>\n",
       "      <td>-2.774880</td>\n",
       "      <td>0</td>\n",
       "      <td>data_item</td>\n",
       "      <td>5.677904</td>\n",
       "      <td></td>\n",
       "      <td>...</td>\n",
       "      <td>357157095431042</td>\n",
       "      <td>3.571571e+27</td>\n",
       "      <td>6.798864</td>\n",
       "      <td>79.94107</td>\n",
       "      <td></td>\n",
       "      <td></td>\n",
       "      <td></td>\n",
       "      <td>0</td>\n",
       "      <td>0</td>\n",
       "      <td>1538703168567</td>\n",
       "    </tr>\n",
       "  </tbody>\n",
       "</table>\n",
       "<p>5 rows × 23 columns</p>\n",
       "</div>"
      ],
      "text/plain": [
       "          acceX  acceX_raw     acceY  acceY_raw     acceZ  acceZ_raw  count  \\\n",
       "0  4.440892e-17   1.479617  9.588400   9.204509 -0.021760  -4.194642      0   \n",
       "1 -4.440892e-17   0.910994  9.989286   9.300277  0.178993  -2.636016      0   \n",
       "2 -2.220446e-17  -0.375890  9.766290   9.558850  0.056706  -2.105701      0   \n",
       "3  0.000000e+00  -0.184354  9.623499   8.911219 -0.000651  -1.795651      0   \n",
       "4 -4.440892e-17   0.210690  9.883606   9.549273 -0.063780  -2.774880      0   \n",
       "\n",
       "    dataType  gpsSpeed gyroX      ...                   imei     journeyID  \\\n",
       "0  data_item  5.677904            ...        357157095431042  3.571571e+27   \n",
       "1  data_item  5.677904            ...        357157095431042  3.571571e+27   \n",
       "2  data_item  5.677904            ...        357157095431042  3.571571e+27   \n",
       "3  data_item  5.677904            ...        357157095431042  3.571571e+27   \n",
       "4  data_item  5.677904            ...        357157095431042  3.571571e+27   \n",
       "\n",
       "        lat       lon  magnetX  magnetY  magnetZ obdRpm obdSpeed  \\\n",
       "0  6.798864  79.94107                                 0        0   \n",
       "1  6.798864  79.94107                                 0        0   \n",
       "2  6.798864  79.94107                                 0        0   \n",
       "3  6.798864  79.94107                                 0        0   \n",
       "4  6.798864  79.94107                                 0        0   \n",
       "\n",
       "            time  \n",
       "0  1538703168153  \n",
       "1  1538703168245  \n",
       "2  1538703168345  \n",
       "3  1538703168465  \n",
       "4  1538703168567  \n",
       "\n",
       "[5 rows x 23 columns]"
      ]
     },
     "execution_count": 46,
     "metadata": {},
     "output_type": "execute_result"
    }
   ],
   "source": [
    "file_name= \"Untagged_Data/Salon_my_style_piliyandala_Piliyandala _Kottawa_Road.json\"\n",
    "data = pd.read_json(file_name)\n",
    "data.head(5)"
   ]
  },
  {
   "cell_type": "code",
   "execution_count": 47,
   "metadata": {},
   "outputs": [
    {
     "data": {
      "text/plain": [
       "(34591, 23)"
      ]
     },
     "execution_count": 47,
     "metadata": {},
     "output_type": "execute_result"
    }
   ],
   "source": [
    "data.shape"
   ]
  },
  {
   "cell_type": "code",
   "execution_count": 48,
   "metadata": {},
   "outputs": [
    {
     "data": {
      "text/plain": [
       "(564, 23)"
      ]
     },
     "execution_count": 48,
     "metadata": {},
     "output_type": "execute_result"
    }
   ],
   "source": [
    "data = data[data.acceY >= 10.0]\n",
    "data.shape"
   ]
  },
  {
   "cell_type": "code",
   "execution_count": 40,
   "metadata": {},
   "outputs": [],
   "source": [
    "#data.head(5)"
   ]
  },
  {
   "cell_type": "code",
   "execution_count": 41,
   "metadata": {},
   "outputs": [],
   "source": [
    "data['anomaly'] = 'A'\n",
    "#data.head(5)"
   ]
  },
  {
   "cell_type": "code",
   "execution_count": 42,
   "metadata": {},
   "outputs": [],
   "source": [
    "data.to_json(\"Threshold_based_predictions/Salon_my_style_piliyandala_Piliyandala _Kottawa_Road.json\", orient='records')"
   ]
  },
  {
   "cell_type": "code",
   "execution_count": null,
   "metadata": {},
   "outputs": [],
   "source": []
  }
 ],
 "metadata": {
  "kernelspec": {
   "display_name": "Python 3",
   "language": "python",
   "name": "python3"
  },
  "language_info": {
   "codemirror_mode": {
    "name": "ipython",
    "version": 3
   },
   "file_extension": ".py",
   "mimetype": "text/x-python",
   "name": "python",
   "nbconvert_exporter": "python",
   "pygments_lexer": "ipython3",
   "version": "3.6.6"
  }
 },
 "nbformat": 4,
 "nbformat_minor": 2
}
