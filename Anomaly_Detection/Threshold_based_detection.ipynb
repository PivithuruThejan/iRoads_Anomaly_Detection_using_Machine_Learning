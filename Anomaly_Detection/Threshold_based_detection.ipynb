{
 "cells": [
  {
   "cell_type": "code",
   "execution_count": 58,
   "metadata": {},
   "outputs": [],
   "source": [
    "import pandas as pd\n",
    "import  numpy  as  np\n",
    "import matplotlib.pyplot as plt\n",
    "from sklearn.model_selection import train_test_split\n",
    "from sklearn.ensemble import RandomForestClassifier\n",
    "from sklearn import preprocessing\n",
    "from sklearn.model_selection import cross_val_score\n",
    "from sklearn.model_selection import GridSearchCV\n",
    "import seaborn as sns\n",
    "from imblearn.over_sampling import RandomOverSampler\n",
    "from imblearn.over_sampling import SMOTE\n",
    "from pandas_ml import ConfusionMatrix"
   ]
  },
  {
   "cell_type": "code",
   "execution_count": 59,
   "metadata": {},
   "outputs": [
    {
     "data": {
      "text/html": [
       "<div>\n",
       "<style scoped>\n",
       "    .dataframe tbody tr th:only-of-type {\n",
       "        vertical-align: middle;\n",
       "    }\n",
       "\n",
       "    .dataframe tbody tr th {\n",
       "        vertical-align: top;\n",
       "    }\n",
       "\n",
       "    .dataframe thead th {\n",
       "        text-align: right;\n",
       "    }\n",
       "</style>\n",
       "<table border=\"1\" class=\"dataframe\">\n",
       "  <thead>\n",
       "    <tr style=\"text-align: right;\">\n",
       "      <th></th>\n",
       "      <th>acceX</th>\n",
       "      <th>acceX_raw</th>\n",
       "      <th>acceY</th>\n",
       "      <th>acceY_raw</th>\n",
       "      <th>acceZ</th>\n",
       "      <th>acceZ_raw</th>\n",
       "      <th>count</th>\n",
       "      <th>dataType</th>\n",
       "      <th>gpsSpeed</th>\n",
       "      <th>gyroX</th>\n",
       "      <th>...</th>\n",
       "      <th>imei</th>\n",
       "      <th>journeyID</th>\n",
       "      <th>lat</th>\n",
       "      <th>lon</th>\n",
       "      <th>magnetX</th>\n",
       "      <th>magnetY</th>\n",
       "      <th>magnetZ</th>\n",
       "      <th>obdRpm</th>\n",
       "      <th>obdSpeed</th>\n",
       "      <th>time</th>\n",
       "    </tr>\n",
       "  </thead>\n",
       "  <tbody>\n",
       "    <tr>\n",
       "      <th>0</th>\n",
       "      <td>3.330669e-17</td>\n",
       "      <td>0.319626</td>\n",
       "      <td>9.792961</td>\n",
       "      <td>9.801862</td>\n",
       "      <td>0.007337</td>\n",
       "      <td>-2.269703</td>\n",
       "      <td>0</td>\n",
       "      <td>data_item</td>\n",
       "      <td>493.715930</td>\n",
       "      <td></td>\n",
       "      <td>...</td>\n",
       "      <td>357157095431042</td>\n",
       "      <td>3.571571e+27</td>\n",
       "      <td>6.814437</td>\n",
       "      <td>79.957475</td>\n",
       "      <td></td>\n",
       "      <td></td>\n",
       "      <td></td>\n",
       "      <td>0</td>\n",
       "      <td>0</td>\n",
       "      <td>1538616402569</td>\n",
       "    </tr>\n",
       "    <tr>\n",
       "      <th>1</th>\n",
       "      <td>-2.775558e-17</td>\n",
       "      <td>0.284910</td>\n",
       "      <td>9.825953</td>\n",
       "      <td>9.755175</td>\n",
       "      <td>-0.005076</td>\n",
       "      <td>-2.296039</td>\n",
       "      <td>0</td>\n",
       "      <td>data_item</td>\n",
       "      <td>0.054087</td>\n",
       "      <td></td>\n",
       "      <td>...</td>\n",
       "      <td>357157095431042</td>\n",
       "      <td>3.571571e+27</td>\n",
       "      <td>6.814437</td>\n",
       "      <td>79.957476</td>\n",
       "      <td></td>\n",
       "      <td></td>\n",
       "      <td></td>\n",
       "      <td>0</td>\n",
       "      <td>0</td>\n",
       "      <td>1538616402691</td>\n",
       "    </tr>\n",
       "    <tr>\n",
       "      <th>2</th>\n",
       "      <td>2.775558e-17</td>\n",
       "      <td>-0.031125</td>\n",
       "      <td>9.781996</td>\n",
       "      <td>9.538500</td>\n",
       "      <td>-0.002438</td>\n",
       "      <td>-2.349909</td>\n",
       "      <td>0</td>\n",
       "      <td>data_item</td>\n",
       "      <td>0.054087</td>\n",
       "      <td></td>\n",
       "      <td>...</td>\n",
       "      <td>357157095431042</td>\n",
       "      <td>3.571571e+27</td>\n",
       "      <td>6.814437</td>\n",
       "      <td>79.957476</td>\n",
       "      <td></td>\n",
       "      <td></td>\n",
       "      <td></td>\n",
       "      <td>0</td>\n",
       "      <td>0</td>\n",
       "      <td>1538616402792</td>\n",
       "    </tr>\n",
       "    <tr>\n",
       "      <th>3</th>\n",
       "      <td>4.996004e-17</td>\n",
       "      <td>0.263362</td>\n",
       "      <td>9.794254</td>\n",
       "      <td>9.542090</td>\n",
       "      <td>-0.029796</td>\n",
       "      <td>-2.500744</td>\n",
       "      <td>0</td>\n",
       "      <td>data_item</td>\n",
       "      <td>0.054087</td>\n",
       "      <td></td>\n",
       "      <td>...</td>\n",
       "      <td>357157095431042</td>\n",
       "      <td>3.571571e+27</td>\n",
       "      <td>6.814437</td>\n",
       "      <td>79.957476</td>\n",
       "      <td></td>\n",
       "      <td></td>\n",
       "      <td></td>\n",
       "      <td>0</td>\n",
       "      <td>0</td>\n",
       "      <td>1538616402891</td>\n",
       "    </tr>\n",
       "    <tr>\n",
       "      <th>4</th>\n",
       "      <td>-3.330669e-17</td>\n",
       "      <td>0.319626</td>\n",
       "      <td>9.781660</td>\n",
       "      <td>9.428367</td>\n",
       "      <td>-0.014203</td>\n",
       "      <td>-2.539051</td>\n",
       "      <td>0</td>\n",
       "      <td>data_item</td>\n",
       "      <td>2.067210</td>\n",
       "      <td></td>\n",
       "      <td>...</td>\n",
       "      <td>357157095431042</td>\n",
       "      <td>3.571571e+27</td>\n",
       "      <td>6.814446</td>\n",
       "      <td>79.957474</td>\n",
       "      <td></td>\n",
       "      <td></td>\n",
       "      <td></td>\n",
       "      <td>0</td>\n",
       "      <td>0</td>\n",
       "      <td>1538616402992</td>\n",
       "    </tr>\n",
       "  </tbody>\n",
       "</table>\n",
       "<p>5 rows × 23 columns</p>\n",
       "</div>"
      ],
      "text/plain": [
       "          acceX  acceX_raw     acceY  acceY_raw     acceZ  acceZ_raw  count  \\\n",
       "0  3.330669e-17   0.319626  9.792961   9.801862  0.007337  -2.269703      0   \n",
       "1 -2.775558e-17   0.284910  9.825953   9.755175 -0.005076  -2.296039      0   \n",
       "2  2.775558e-17  -0.031125  9.781996   9.538500 -0.002438  -2.349909      0   \n",
       "3  4.996004e-17   0.263362  9.794254   9.542090 -0.029796  -2.500744      0   \n",
       "4 -3.330669e-17   0.319626  9.781660   9.428367 -0.014203  -2.539051      0   \n",
       "\n",
       "    dataType    gpsSpeed gyroX      ...                   imei     journeyID  \\\n",
       "0  data_item  493.715930            ...        357157095431042  3.571571e+27   \n",
       "1  data_item    0.054087            ...        357157095431042  3.571571e+27   \n",
       "2  data_item    0.054087            ...        357157095431042  3.571571e+27   \n",
       "3  data_item    0.054087            ...        357157095431042  3.571571e+27   \n",
       "4  data_item    2.067210            ...        357157095431042  3.571571e+27   \n",
       "\n",
       "        lat        lon  magnetX  magnetY  magnetZ obdRpm obdSpeed  \\\n",
       "0  6.814437  79.957475                                 0        0   \n",
       "1  6.814437  79.957476                                 0        0   \n",
       "2  6.814437  79.957476                                 0        0   \n",
       "3  6.814437  79.957476                                 0        0   \n",
       "4  6.814446  79.957474                                 0        0   \n",
       "\n",
       "            time  \n",
       "0  1538616402569  \n",
       "1  1538616402691  \n",
       "2  1538616402792  \n",
       "3  1538616402891  \n",
       "4  1538616402992  \n",
       "\n",
       "[5 rows x 23 columns]"
      ]
     },
     "execution_count": 59,
     "metadata": {},
     "output_type": "execute_result"
    }
   ],
   "source": [
    "file_name= \"Untagged_Data/Salon_my_style_piliyandala_Piliyandala_Kottawa_Road.json\"\n",
    "data = pd.read_json(file_name)\n",
    "data.head(5)"
   ]
  },
  {
   "cell_type": "code",
   "execution_count": 60,
   "metadata": {},
   "outputs": [
    {
     "data": {
      "text/plain": [
       "(40220, 23)"
      ]
     },
     "execution_count": 60,
     "metadata": {},
     "output_type": "execute_result"
    }
   ],
   "source": [
    "data.shape"
   ]
  },
  {
   "cell_type": "code",
   "execution_count": 61,
   "metadata": {},
   "outputs": [
    {
     "data": {
      "text/plain": [
       "(512, 23)"
      ]
     },
     "execution_count": 61,
     "metadata": {},
     "output_type": "execute_result"
    }
   ],
   "source": [
    "data = data[data.acceY >= 10.0]\n",
    "data.shape"
   ]
  },
  {
   "cell_type": "code",
   "execution_count": 62,
   "metadata": {},
   "outputs": [],
   "source": [
    "#data.head(5)"
   ]
  },
  {
   "cell_type": "code",
   "execution_count": 63,
   "metadata": {},
   "outputs": [],
   "source": [
    "data['anomaly'] = 'A'\n",
    "#data.head(5)"
   ]
  },
  {
   "cell_type": "code",
   "execution_count": 64,
   "metadata": {},
   "outputs": [],
   "source": [
    "data.to_json(\"Threshold_based_predictions/Salon_my_style_piliyandala_Piliyandala_Kottawa_Road.json\", orient='records')"
   ]
  },
  {
   "cell_type": "code",
   "execution_count": null,
   "metadata": {},
   "outputs": [],
   "source": []
  }
 ],
 "metadata": {
  "kernelspec": {
   "display_name": "Python 3",
   "language": "python",
   "name": "python3"
  },
  "language_info": {
   "codemirror_mode": {
    "name": "ipython",
    "version": 3
   },
   "file_extension": ".py",
   "mimetype": "text/x-python",
   "name": "python",
   "nbconvert_exporter": "python",
   "pygments_lexer": "ipython3",
   "version": "3.6.6"
  }
 },
 "nbformat": 4,
 "nbformat_minor": 2
}
