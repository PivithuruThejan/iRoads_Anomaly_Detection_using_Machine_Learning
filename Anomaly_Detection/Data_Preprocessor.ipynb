{
 "cells": [
  {
   "cell_type": "code",
   "execution_count": 25,
   "metadata": {},
   "outputs": [],
   "source": [
    "import pandas as pd\n",
    "import  numpy  as  np\n",
    "import matplotlib.pyplot as plt\n",
    "from sklearn.model_selection import train_test_split\n",
    "from sklearn.ensemble import RandomForestClassifier\n",
    "from sklearn import preprocessing\n",
    "from sklearn.model_selection import cross_val_score\n",
    "from sklearn.model_selection import GridSearchCV\n",
    "import seaborn as sns\n",
    "from imblearn.over_sampling import RandomOverSampler\n",
    "from imblearn.over_sampling import SMOTE\n",
    "from pandas_ml import ConfusionMatrix\n",
    "from scipy.fftpack import fft"
   ]
  },
  {
   "cell_type": "code",
   "execution_count": 26,
   "metadata": {},
   "outputs": [
    {
     "data": {
      "image/png": "[encoded data removed]",
      "text/plain": [
       "<matplotlib.figure.Figure at 0x29aa0794198>"
      ]
     },
     "metadata": {},
     "output_type": "display_data"
    }
   ],
   "source": [
    "file_name= \"tagged_data/home_to_karapitiya.json\"\n",
    "data = pd.read_json(file_name)\n",
    "plt.plot(data.time, data.acceY)\n",
    "plt.show()"
   ]
  },
  {
   "cell_type": "code",
   "execution_count": 27,
   "metadata": {},
   "outputs": [
    {
     "data": {
      "text/html": [
       "<div>\n",
       "<style scoped>\n",
       "    .dataframe tbody tr th:only-of-type {\n",
       "        vertical-align: middle;\n",
       "    }\n",
       "\n",
       "    .dataframe tbody tr th {\n",
       "        vertical-align: top;\n",
       "    }\n",
       "\n",
       "    .dataframe thead th {\n",
       "        text-align: right;\n",
       "    }\n",
       "</style>\n",
       "<table border=\"1\" class=\"dataframe\">\n",
       "  <thead>\n",
       "    <tr style=\"text-align: right;\">\n",
       "      <th></th>\n",
       "      <th>acceX</th>\n",
       "      <th>acceX_raw</th>\n",
       "      <th>acceY</th>\n",
       "      <th>acceY_raw</th>\n",
       "      <th>acceZ</th>\n",
       "      <th>acceZ_raw</th>\n",
       "      <th>anomaly</th>\n",
       "      <th>count</th>\n",
       "      <th>dataType</th>\n",
       "      <th>gpsSpeed</th>\n",
       "      <th>...</th>\n",
       "      <th>imei</th>\n",
       "      <th>journeyID</th>\n",
       "      <th>lat</th>\n",
       "      <th>lon</th>\n",
       "      <th>magnetX</th>\n",
       "      <th>magnetY</th>\n",
       "      <th>magnetZ</th>\n",
       "      <th>obdRpm</th>\n",
       "      <th>obdSpeed</th>\n",
       "      <th>time</th>\n",
       "    </tr>\n",
       "  </thead>\n",
       "  <tbody>\n",
       "    <tr>\n",
       "      <th>1</th>\n",
       "      <td>-2.220446e-17</td>\n",
       "      <td>-0.208296</td>\n",
       "      <td>0.028970</td>\n",
       "      <td>9.774328</td>\n",
       "      <td>0.018061</td>\n",
       "      <td>-1.477222</td>\n",
       "      <td>N</td>\n",
       "      <td>0</td>\n",
       "      <td>data_item</td>\n",
       "      <td>3682.371238</td>\n",
       "      <td>...</td>\n",
       "      <td>353424070112284</td>\n",
       "      <td>3.534241e+27</td>\n",
       "      <td>6.035515</td>\n",
       "      <td>80.269212</td>\n",
       "      <td></td>\n",
       "      <td></td>\n",
       "      <td></td>\n",
       "      <td>0</td>\n",
       "      <td>0</td>\n",
       "      <td>1537579764366</td>\n",
       "    </tr>\n",
       "    <tr>\n",
       "      <th>2</th>\n",
       "      <td>-3.538836e-17</td>\n",
       "      <td>-0.093374</td>\n",
       "      <td>-0.025857</td>\n",
       "      <td>9.708488</td>\n",
       "      <td>-0.029349</td>\n",
       "      <td>-1.563414</td>\n",
       "      <td>N</td>\n",
       "      <td>0</td>\n",
       "      <td>data_item</td>\n",
       "      <td>3682.371238</td>\n",
       "      <td>...</td>\n",
       "      <td>353424070112284</td>\n",
       "      <td>3.534241e+27</td>\n",
       "      <td>6.035515</td>\n",
       "      <td>80.269212</td>\n",
       "      <td></td>\n",
       "      <td></td>\n",
       "      <td></td>\n",
       "      <td>0</td>\n",
       "      <td>0</td>\n",
       "      <td>1537579764466</td>\n",
       "    </tr>\n",
       "    <tr>\n",
       "      <th>3</th>\n",
       "      <td>4.857226e-17</td>\n",
       "      <td>-0.417788</td>\n",
       "      <td>0.044819</td>\n",
       "      <td>9.613917</td>\n",
       "      <td>-0.000558</td>\n",
       "      <td>-1.449689</td>\n",
       "      <td>N</td>\n",
       "      <td>0</td>\n",
       "      <td>data_item</td>\n",
       "      <td>3682.371238</td>\n",
       "      <td>...</td>\n",
       "      <td>353424070112284</td>\n",
       "      <td>3.534241e+27</td>\n",
       "      <td>6.035515</td>\n",
       "      <td>80.269212</td>\n",
       "      <td></td>\n",
       "      <td></td>\n",
       "      <td></td>\n",
       "      <td>0</td>\n",
       "      <td>0</td>\n",
       "      <td>1537579764566</td>\n",
       "    </tr>\n",
       "    <tr>\n",
       "      <th>4</th>\n",
       "      <td>9.020562e-18</td>\n",
       "      <td>-0.342371</td>\n",
       "      <td>-0.029305</td>\n",
       "      <td>9.569624</td>\n",
       "      <td>-0.003664</td>\n",
       "      <td>-1.375469</td>\n",
       "      <td>N</td>\n",
       "      <td>0</td>\n",
       "      <td>data_item</td>\n",
       "      <td>3682.371238</td>\n",
       "      <td>...</td>\n",
       "      <td>353424070112284</td>\n",
       "      <td>3.534241e+27</td>\n",
       "      <td>6.035515</td>\n",
       "      <td>80.269212</td>\n",
       "      <td></td>\n",
       "      <td></td>\n",
       "      <td></td>\n",
       "      <td>0</td>\n",
       "      <td>0</td>\n",
       "      <td>1537579764666</td>\n",
       "    </tr>\n",
       "    <tr>\n",
       "      <th>5</th>\n",
       "      <td>-4.440892e-17</td>\n",
       "      <td>0.023942</td>\n",
       "      <td>-0.001820</td>\n",
       "      <td>9.606734</td>\n",
       "      <td>0.049475</td>\n",
       "      <td>-1.215057</td>\n",
       "      <td>N</td>\n",
       "      <td>0</td>\n",
       "      <td>data_item</td>\n",
       "      <td>3682.371238</td>\n",
       "      <td>...</td>\n",
       "      <td>353424070112284</td>\n",
       "      <td>3.534241e+27</td>\n",
       "      <td>6.035515</td>\n",
       "      <td>80.269212</td>\n",
       "      <td></td>\n",
       "      <td></td>\n",
       "      <td></td>\n",
       "      <td>0</td>\n",
       "      <td>0</td>\n",
       "      <td>1537579764766</td>\n",
       "    </tr>\n",
       "  </tbody>\n",
       "</table>\n",
       "<p>5 rows × 24 columns</p>\n",
       "</div>"
      ],
      "text/plain": [
       "          acceX  acceX_raw     acceY  acceY_raw     acceZ  acceZ_raw anomaly  \\\n",
       "1 -2.220446e-17  -0.208296  0.028970   9.774328  0.018061  -1.477222       N   \n",
       "2 -3.538836e-17  -0.093374 -0.025857   9.708488 -0.029349  -1.563414       N   \n",
       "3  4.857226e-17  -0.417788  0.044819   9.613917 -0.000558  -1.449689       N   \n",
       "4  9.020562e-18  -0.342371 -0.029305   9.569624 -0.003664  -1.375469       N   \n",
       "5 -4.440892e-17   0.023942 -0.001820   9.606734  0.049475  -1.215057       N   \n",
       "\n",
       "   count   dataType     gpsSpeed      ...                   imei  \\\n",
       "1      0  data_item  3682.371238      ...        353424070112284   \n",
       "2      0  data_item  3682.371238      ...        353424070112284   \n",
       "3      0  data_item  3682.371238      ...        353424070112284   \n",
       "4      0  data_item  3682.371238      ...        353424070112284   \n",
       "5      0  data_item  3682.371238      ...        353424070112284   \n",
       "\n",
       "      journeyID       lat        lon  magnetX  magnetY  magnetZ  obdRpm  \\\n",
       "1  3.534241e+27  6.035515  80.269212                                  0   \n",
       "2  3.534241e+27  6.035515  80.269212                                  0   \n",
       "3  3.534241e+27  6.035515  80.269212                                  0   \n",
       "4  3.534241e+27  6.035515  80.269212                                  0   \n",
       "5  3.534241e+27  6.035515  80.269212                                  0   \n",
       "\n",
       "  obdSpeed           time  \n",
       "1        0  1537579764366  \n",
       "2        0  1537579764466  \n",
       "3        0  1537579764566  \n",
       "4        0  1537579764666  \n",
       "5        0  1537579764766  \n",
       "\n",
       "[5 rows x 24 columns]"
      ]
     },
     "execution_count": 27,
     "metadata": {},
     "output_type": "execute_result"
    }
   ],
   "source": [
    "features = ['acceY', 'acceX',]\n",
    "data_derivative = data[features]\n",
    "#plt.plot(data_derivative.time, data_derivative.acceY)\n",
    "#plt.show()\n",
    "data_derivative = data_derivative.diff()\n",
    "data['acceY'] = data_derivative['acceY']\n",
    "data['acceX'] = data_derivative['acceX']\n",
    "\n",
    "data = data.iloc[1:]\n",
    "data.head()"
   ]
  },
  {
   "cell_type": "code",
   "execution_count": 29,
   "metadata": {},
   "outputs": [
    {
     "data": {
      "text/plain": [
       "(4524, 24)"
      ]
     },
     "execution_count": 29,
     "metadata": {},
     "output_type": "execute_result"
    }
   ],
   "source": [
    "data.shape"
   ]
  },
  {
   "cell_type": "code",
   "execution_count": 30,
   "metadata": {},
   "outputs": [
    {
     "data": {
      "image/png": "[encoded data removed]",
      "text/plain": [
       "<matplotlib.figure.Figure at 0x29aa083b240>"
      ]
     },
     "metadata": {},
     "output_type": "display_data"
    }
   ],
   "source": [
    "plt.plot(data.time, data.acceY)\n",
    "plt.show()"
   ]
  },
  {
   "cell_type": "code",
   "execution_count": 31,
   "metadata": {},
   "outputs": [],
   "source": [
    "data.to_json(\"Preprocessed_tagged_data/home_to_karapitiya.json\", orient='records')"
   ]
  },
  {
   "cell_type": "code",
   "execution_count": null,
   "metadata": {},
   "outputs": [],
   "source": []
  }
 ],
 "metadata": {
  "kernelspec": {
   "display_name": "Python 3",
   "language": "python",
   "name": "python3"
  },
  "language_info": {
   "codemirror_mode": {
    "name": "ipython",
    "version": 3
   },
   "file_extension": ".py",
   "mimetype": "text/x-python",
   "name": "python",
   "nbconvert_exporter": "python",
   "pygments_lexer": "ipython3",
   "version": "3.6.4"
  }
 },
 "nbformat": 4,
 "nbformat_minor": 2
}
