{
 "cells": [
  {
   "cell_type": "code",
   "execution_count": 1,
   "metadata": {},
   "outputs": [],
   "source": [
    "import pandas as pd\n",
    "import  numpy  as  np\n",
    "import matplotlib.pyplot as plt\n",
    "from sklearn.model_selection import train_test_split\n",
    "from sklearn.ensemble import RandomForestClassifier\n",
    "from sklearn import preprocessing\n",
    "from sklearn.model_selection import cross_val_score\n",
    "from sklearn.model_selection import GridSearchCV\n",
    "import seaborn as sns\n",
    "from imblearn.over_sampling import RandomOverSampler\n",
    "from imblearn.over_sampling import SMOTE\n",
    "from pandas_ml import ConfusionMatrix"
   ]
  },
  {
   "cell_type": "code",
   "execution_count": 2,
   "metadata": {},
   "outputs": [],
   "source": [
    "file_name= \"tagged_data/home_to_karapitiya.json\"\n",
    "data = pd.read_json(file_name)\n",
    "#data.head(5)"
   ]
  },
  {
   "cell_type": "code",
   "execution_count": 3,
   "metadata": {},
   "outputs": [],
   "source": [
    "#data.shape"
   ]
  },
  {
   "cell_type": "code",
   "execution_count": 4,
   "metadata": {},
   "outputs": [],
   "source": [
    "#print(data['anomaly'].unique())"
   ]
  },
  {
   "cell_type": "code",
   "execution_count": 5,
   "metadata": {},
   "outputs": [
    {
     "name": "stdout",
     "output_type": "stream",
     "text": [
      "['N' 'A']\n"
     ]
    }
   ],
   "source": [
    "features = ['acceY', 'acceX','gpsSpeed',]\n",
    "target = ['anomaly',]\n",
    "x = data[features]\n",
    "y = data[target]\n",
    "print(y['anomaly'].unique())\n",
    "#x.head()"
   ]
  },
  {
   "cell_type": "code",
   "execution_count": 6,
   "metadata": {
    "scrolled": true
   },
   "outputs": [
    {
     "name": "stderr",
     "output_type": "stream",
     "text": [
      "C:\\Users\\User\\Anaconda3\\lib\\site-packages\\sklearn\\utils\\validation.py:578: DataConversionWarning: A column-vector y was passed when a 1d array was expected. Please change the shape of y to (n_samples, ), for example using ravel().\n",
      "  y = column_or_1d(y, warn=True)\n"
     ]
    }
   ],
   "source": [
    "sm = SMOTE()\n",
    "x, y = sm.fit_sample(x, y)\n",
    "x = pd.DataFrame(x)\n",
    "#x.head()"
   ]
  },
  {
   "cell_type": "code",
   "execution_count": 7,
   "metadata": {},
   "outputs": [],
   "source": [
    "y = pd.DataFrame(y)\n",
    "#y.head()"
   ]
  },
  {
   "cell_type": "code",
   "execution_count": 8,
   "metadata": {},
   "outputs": [],
   "source": [
    "y['anomaly'] = y\n",
    "#y.head()"
   ]
  },
  {
   "cell_type": "code",
   "execution_count": 9,
   "metadata": {},
   "outputs": [],
   "source": [
    "y = y['anomaly']\n",
    "#y.head()"
   ]
  },
  {
   "cell_type": "code",
   "execution_count": 10,
   "metadata": {},
   "outputs": [],
   "source": [
    "y = pd.DataFrame(y)\n",
    "y['anomaly'] = y\n",
    "#y.head()"
   ]
  },
  {
   "cell_type": "code",
   "execution_count": 11,
   "metadata": {},
   "outputs": [],
   "source": [
    "y = pd.DataFrame(y)\n",
    "#y.head()"
   ]
  },
  {
   "cell_type": "code",
   "execution_count": 12,
   "metadata": {},
   "outputs": [],
   "source": [
    "x['acceY'] = x[0]\n",
    "x['acceX'] = x[1]\n",
    "x['gpsSpeed'] = x[2]\n",
    "#x.head()"
   ]
  },
  {
   "cell_type": "code",
   "execution_count": 13,
   "metadata": {},
   "outputs": [],
   "source": [
    "fea = ['acceY', 'acceX', 'gpsSpeed',]\n",
    "x = x[fea]\n",
    "#x.head()"
   ]
  },
  {
   "cell_type": "code",
   "execution_count": 14,
   "metadata": {
    "scrolled": false
   },
   "outputs": [],
   "source": [
    "#x.describe()"
   ]
  },
  {
   "cell_type": "code",
   "execution_count": 15,
   "metadata": {},
   "outputs": [],
   "source": [
    "#y.head()"
   ]
  },
  {
   "cell_type": "code",
   "execution_count": 16,
   "metadata": {},
   "outputs": [],
   "source": [
    "#y.describe()"
   ]
  },
  {
   "cell_type": "markdown",
   "metadata": {},
   "source": [
    "# Basic Random Forest Model "
   ]
  },
  {
   "cell_type": "code",
   "execution_count": 17,
   "metadata": {},
   "outputs": [],
   "source": [
    "forestModel = RandomForestClassifier()"
   ]
  },
  {
   "cell_type": "code",
   "execution_count": 18,
   "metadata": {},
   "outputs": [],
   "source": [
    "#parameters = [{'max_depth' : [1,2,3,4,5,6,10,20], 'n_estimators' : [1,2,3,4,5,10,20,30,40,50,60,70,80,100],\n",
    "               #'min_samples_leaf' : [0.01,0.015,0.02,0.03,0.005]}]\n",
    "#grid = GridSearchCV(forestModel,parameters,cv=3)\n",
    "#grid.fit(x, y)\n",
    "#grid.best_estimator_"
   ]
  },
  {
   "cell_type": "code",
   "execution_count": 19,
   "metadata": {},
   "outputs": [],
   "source": [
    "forestModel = RandomForestClassifier(bootstrap=True, class_weight=None, criterion='gini',\n",
    "            max_depth=1, max_features='auto', max_leaf_nodes=None,\n",
    "            min_impurity_decrease=0.0, min_impurity_split=None,\n",
    "            min_samples_leaf=0.01, min_samples_split=2,\n",
    "            min_weight_fraction_leaf=0.0, n_estimators=1, n_jobs=1,\n",
    "            oob_score=False, random_state=None, verbose=0,\n",
    "            warm_start=False)"
   ]
  },
  {
   "cell_type": "code",
   "execution_count": 20,
   "metadata": {},
   "outputs": [
    {
     "name": "stderr",
     "output_type": "stream",
     "text": [
      "C:\\Users\\User\\Anaconda3\\lib\\site-packages\\ipykernel_launcher.py:1: DataConversionWarning: A column-vector y was passed when a 1d array was expected. Please change the shape of y to (n_samples,), for example using ravel().\n",
      "  \"\"\"Entry point for launching an IPython kernel.\n"
     ]
    },
    {
     "data": {
      "text/plain": [
       "RandomForestClassifier(bootstrap=True, class_weight=None, criterion='gini',\n",
       "            max_depth=1, max_features='auto', max_leaf_nodes=None,\n",
       "            min_impurity_decrease=0.0, min_impurity_split=None,\n",
       "            min_samples_leaf=0.01, min_samples_split=2,\n",
       "            min_weight_fraction_leaf=0.0, n_estimators=1, n_jobs=1,\n",
       "            oob_score=False, random_state=None, verbose=0,\n",
       "            warm_start=False)"
      ]
     },
     "execution_count": 20,
     "metadata": {},
     "output_type": "execute_result"
    }
   ],
   "source": [
    "forestModel.fit(x, y)"
   ]
  },
  {
   "cell_type": "code",
   "execution_count": 21,
   "metadata": {
    "scrolled": true
   },
   "outputs": [],
   "source": [
    "file_name= \"tagged_data/home_to_karapitiya.json\"\n",
    "data = pd.read_json(file_name)\n",
    "#data.drop(['anomaly'], axis=1, inplace = True)\n",
    "#data.head(5)"
   ]
  },
  {
   "cell_type": "code",
   "execution_count": 22,
   "metadata": {},
   "outputs": [],
   "source": [
    "features = ['acceY', 'acceX','gpsSpeed',]\n",
    "target = ['anomaly',]\n",
    "x = data[features]\n",
    "y = data[target]"
   ]
  },
  {
   "cell_type": "code",
   "execution_count": 23,
   "metadata": {},
   "outputs": [
    {
     "data": {
      "text/html": [
       "<div>\n",
       "<style scoped>\n",
       "    .dataframe tbody tr th:only-of-type {\n",
       "        vertical-align: middle;\n",
       "    }\n",
       "\n",
       "    .dataframe tbody tr th {\n",
       "        vertical-align: top;\n",
       "    }\n",
       "\n",
       "    .dataframe thead th {\n",
       "        text-align: right;\n",
       "    }\n",
       "</style>\n",
       "<table border=\"1\" class=\"dataframe\">\n",
       "  <thead>\n",
       "    <tr style=\"text-align: right;\">\n",
       "      <th></th>\n",
       "      <th>0</th>\n",
       "    </tr>\n",
       "  </thead>\n",
       "  <tbody>\n",
       "    <tr>\n",
       "      <th>count</th>\n",
       "      <td>4525</td>\n",
       "    </tr>\n",
       "    <tr>\n",
       "      <th>unique</th>\n",
       "      <td>2</td>\n",
       "    </tr>\n",
       "    <tr>\n",
       "      <th>top</th>\n",
       "      <td>N</td>\n",
       "    </tr>\n",
       "    <tr>\n",
       "      <th>freq</th>\n",
       "      <td>4516</td>\n",
       "    </tr>\n",
       "  </tbody>\n",
       "</table>\n",
       "</div>"
      ],
      "text/plain": [
       "           0\n",
       "count   4525\n",
       "unique     2\n",
       "top        N\n",
       "freq    4516"
      ]
     },
     "execution_count": 23,
     "metadata": {},
     "output_type": "execute_result"
    }
   ],
   "source": [
    "y_predict = pd.DataFrame(forestModel.predict(x))\n",
    "y_predict.describe()"
   ]
  },
  {
   "cell_type": "code",
   "execution_count": 24,
   "metadata": {},
   "outputs": [
    {
     "data": {
      "text/html": [
       "<div>\n",
       "<style scoped>\n",
       "    .dataframe tbody tr th:only-of-type {\n",
       "        vertical-align: middle;\n",
       "    }\n",
       "\n",
       "    .dataframe tbody tr th {\n",
       "        vertical-align: top;\n",
       "    }\n",
       "\n",
       "    .dataframe thead th {\n",
       "        text-align: right;\n",
       "    }\n",
       "</style>\n",
       "<table border=\"1\" class=\"dataframe\">\n",
       "  <thead>\n",
       "    <tr style=\"text-align: right;\">\n",
       "      <th></th>\n",
       "      <th>anomaly</th>\n",
       "    </tr>\n",
       "  </thead>\n",
       "  <tbody>\n",
       "    <tr>\n",
       "      <th>0</th>\n",
       "      <td>N</td>\n",
       "    </tr>\n",
       "    <tr>\n",
       "      <th>1</th>\n",
       "      <td>N</td>\n",
       "    </tr>\n",
       "    <tr>\n",
       "      <th>2</th>\n",
       "      <td>N</td>\n",
       "    </tr>\n",
       "    <tr>\n",
       "      <th>3</th>\n",
       "      <td>N</td>\n",
       "    </tr>\n",
       "    <tr>\n",
       "      <th>4</th>\n",
       "      <td>N</td>\n",
       "    </tr>\n",
       "  </tbody>\n",
       "</table>\n",
       "</div>"
      ],
      "text/plain": [
       "  anomaly\n",
       "0       N\n",
       "1       N\n",
       "2       N\n",
       "3       N\n",
       "4       N"
      ]
     },
     "execution_count": 24,
     "metadata": {},
     "output_type": "execute_result"
    }
   ],
   "source": [
    "y_predict['anomaly'] = y_predict\n",
    "fea = ['anomaly', ]\n",
    "y_predict = y_predict[fea]\n",
    "y_predict.head()"
   ]
  },
  {
   "cell_type": "code",
   "execution_count": 25,
   "metadata": {},
   "outputs": [
    {
     "data": {
      "text/html": [
       "<div>\n",
       "<style scoped>\n",
       "    .dataframe tbody tr th:only-of-type {\n",
       "        vertical-align: middle;\n",
       "    }\n",
       "\n",
       "    .dataframe tbody tr th {\n",
       "        vertical-align: top;\n",
       "    }\n",
       "\n",
       "    .dataframe thead th {\n",
       "        text-align: right;\n",
       "    }\n",
       "</style>\n",
       "<table border=\"1\" class=\"dataframe\">\n",
       "  <thead>\n",
       "    <tr style=\"text-align: right;\">\n",
       "      <th></th>\n",
       "      <th>acceX</th>\n",
       "      <th>acceX_raw</th>\n",
       "      <th>acceY</th>\n",
       "      <th>acceY_raw</th>\n",
       "      <th>acceZ</th>\n",
       "      <th>acceZ_raw</th>\n",
       "      <th>count</th>\n",
       "      <th>dataType</th>\n",
       "      <th>gpsSpeed</th>\n",
       "      <th>gyroX</th>\n",
       "      <th>...</th>\n",
       "      <th>imei</th>\n",
       "      <th>journeyID</th>\n",
       "      <th>lat</th>\n",
       "      <th>lon</th>\n",
       "      <th>magnetX</th>\n",
       "      <th>magnetY</th>\n",
       "      <th>magnetZ</th>\n",
       "      <th>obdRpm</th>\n",
       "      <th>obdSpeed</th>\n",
       "      <th>time</th>\n",
       "    </tr>\n",
       "  </thead>\n",
       "  <tbody>\n",
       "    <tr>\n",
       "      <th>0</th>\n",
       "      <td>2.220446e-17</td>\n",
       "      <td>-0.143652</td>\n",
       "      <td>9.779027</td>\n",
       "      <td>9.873688</td>\n",
       "      <td>-0.014639</td>\n",
       "      <td>-1.465251</td>\n",
       "      <td>0</td>\n",
       "      <td>data_item</td>\n",
       "      <td>3682.371238</td>\n",
       "      <td></td>\n",
       "      <td>...</td>\n",
       "      <td>353424070112284</td>\n",
       "      <td>3.534241e+27</td>\n",
       "      <td>6.035515</td>\n",
       "      <td>80.269212</td>\n",
       "      <td></td>\n",
       "      <td></td>\n",
       "      <td></td>\n",
       "      <td>0</td>\n",
       "      <td>0</td>\n",
       "      <td>1537579764266</td>\n",
       "    </tr>\n",
       "    <tr>\n",
       "      <th>1</th>\n",
       "      <td>0.000000e+00</td>\n",
       "      <td>-0.208296</td>\n",
       "      <td>9.807997</td>\n",
       "      <td>9.774328</td>\n",
       "      <td>0.018061</td>\n",
       "      <td>-1.477222</td>\n",
       "      <td>0</td>\n",
       "      <td>data_item</td>\n",
       "      <td>3682.371238</td>\n",
       "      <td></td>\n",
       "      <td>...</td>\n",
       "      <td>353424070112284</td>\n",
       "      <td>3.534241e+27</td>\n",
       "      <td>6.035515</td>\n",
       "      <td>80.269212</td>\n",
       "      <td></td>\n",
       "      <td></td>\n",
       "      <td></td>\n",
       "      <td>0</td>\n",
       "      <td>0</td>\n",
       "      <td>1537579764366</td>\n",
       "    </tr>\n",
       "    <tr>\n",
       "      <th>2</th>\n",
       "      <td>-3.538836e-17</td>\n",
       "      <td>-0.093374</td>\n",
       "      <td>9.782139</td>\n",
       "      <td>9.708488</td>\n",
       "      <td>-0.029349</td>\n",
       "      <td>-1.563414</td>\n",
       "      <td>0</td>\n",
       "      <td>data_item</td>\n",
       "      <td>3682.371238</td>\n",
       "      <td></td>\n",
       "      <td>...</td>\n",
       "      <td>353424070112284</td>\n",
       "      <td>3.534241e+27</td>\n",
       "      <td>6.035515</td>\n",
       "      <td>80.269212</td>\n",
       "      <td></td>\n",
       "      <td></td>\n",
       "      <td></td>\n",
       "      <td>0</td>\n",
       "      <td>0</td>\n",
       "      <td>1537579764466</td>\n",
       "    </tr>\n",
       "    <tr>\n",
       "      <th>3</th>\n",
       "      <td>1.318390e-17</td>\n",
       "      <td>-0.417788</td>\n",
       "      <td>9.826959</td>\n",
       "      <td>9.613917</td>\n",
       "      <td>-0.000558</td>\n",
       "      <td>-1.449689</td>\n",
       "      <td>0</td>\n",
       "      <td>data_item</td>\n",
       "      <td>3682.371238</td>\n",
       "      <td></td>\n",
       "      <td>...</td>\n",
       "      <td>353424070112284</td>\n",
       "      <td>3.534241e+27</td>\n",
       "      <td>6.035515</td>\n",
       "      <td>80.269212</td>\n",
       "      <td></td>\n",
       "      <td></td>\n",
       "      <td></td>\n",
       "      <td>0</td>\n",
       "      <td>0</td>\n",
       "      <td>1537579764566</td>\n",
       "    </tr>\n",
       "    <tr>\n",
       "      <th>4</th>\n",
       "      <td>2.220446e-17</td>\n",
       "      <td>-0.342371</td>\n",
       "      <td>9.797654</td>\n",
       "      <td>9.569624</td>\n",
       "      <td>-0.003664</td>\n",
       "      <td>-1.375469</td>\n",
       "      <td>0</td>\n",
       "      <td>data_item</td>\n",
       "      <td>3682.371238</td>\n",
       "      <td></td>\n",
       "      <td>...</td>\n",
       "      <td>353424070112284</td>\n",
       "      <td>3.534241e+27</td>\n",
       "      <td>6.035515</td>\n",
       "      <td>80.269212</td>\n",
       "      <td></td>\n",
       "      <td></td>\n",
       "      <td></td>\n",
       "      <td>0</td>\n",
       "      <td>0</td>\n",
       "      <td>1537579764666</td>\n",
       "    </tr>\n",
       "  </tbody>\n",
       "</table>\n",
       "<p>5 rows × 23 columns</p>\n",
       "</div>"
      ],
      "text/plain": [
       "          acceX  acceX_raw     acceY  acceY_raw     acceZ  acceZ_raw  count  \\\n",
       "0  2.220446e-17  -0.143652  9.779027   9.873688 -0.014639  -1.465251      0   \n",
       "1  0.000000e+00  -0.208296  9.807997   9.774328  0.018061  -1.477222      0   \n",
       "2 -3.538836e-17  -0.093374  9.782139   9.708488 -0.029349  -1.563414      0   \n",
       "3  1.318390e-17  -0.417788  9.826959   9.613917 -0.000558  -1.449689      0   \n",
       "4  2.220446e-17  -0.342371  9.797654   9.569624 -0.003664  -1.375469      0   \n",
       "\n",
       "    dataType     gpsSpeed gyroX      ...                   imei     journeyID  \\\n",
       "0  data_item  3682.371238            ...        353424070112284  3.534241e+27   \n",
       "1  data_item  3682.371238            ...        353424070112284  3.534241e+27   \n",
       "2  data_item  3682.371238            ...        353424070112284  3.534241e+27   \n",
       "3  data_item  3682.371238            ...        353424070112284  3.534241e+27   \n",
       "4  data_item  3682.371238            ...        353424070112284  3.534241e+27   \n",
       "\n",
       "        lat        lon  magnetX  magnetY  magnetZ obdRpm obdSpeed  \\\n",
       "0  6.035515  80.269212                                 0        0   \n",
       "1  6.035515  80.269212                                 0        0   \n",
       "2  6.035515  80.269212                                 0        0   \n",
       "3  6.035515  80.269212                                 0        0   \n",
       "4  6.035515  80.269212                                 0        0   \n",
       "\n",
       "            time  \n",
       "0  1537579764266  \n",
       "1  1537579764366  \n",
       "2  1537579764466  \n",
       "3  1537579764566  \n",
       "4  1537579764666  \n",
       "\n",
       "[5 rows x 23 columns]"
      ]
     },
     "execution_count": 25,
     "metadata": {},
     "output_type": "execute_result"
    }
   ],
   "source": [
    "data.drop(['anomaly'], axis=1, inplace = True)\n",
    "data.head(5)"
   ]
  },
  {
   "cell_type": "code",
   "execution_count": 26,
   "metadata": {},
   "outputs": [
    {
     "data": {
      "text/html": [
       "<div>\n",
       "<style scoped>\n",
       "    .dataframe tbody tr th:only-of-type {\n",
       "        vertical-align: middle;\n",
       "    }\n",
       "\n",
       "    .dataframe tbody tr th {\n",
       "        vertical-align: top;\n",
       "    }\n",
       "\n",
       "    .dataframe thead th {\n",
       "        text-align: right;\n",
       "    }\n",
       "</style>\n",
       "<table border=\"1\" class=\"dataframe\">\n",
       "  <thead>\n",
       "    <tr style=\"text-align: right;\">\n",
       "      <th></th>\n",
       "      <th>acceX</th>\n",
       "      <th>acceX_raw</th>\n",
       "      <th>acceY</th>\n",
       "      <th>acceY_raw</th>\n",
       "      <th>acceZ</th>\n",
       "      <th>acceZ_raw</th>\n",
       "      <th>count</th>\n",
       "      <th>dataType</th>\n",
       "      <th>gpsSpeed</th>\n",
       "      <th>gyroX</th>\n",
       "      <th>...</th>\n",
       "      <th>journeyID</th>\n",
       "      <th>lat</th>\n",
       "      <th>lon</th>\n",
       "      <th>magnetX</th>\n",
       "      <th>magnetY</th>\n",
       "      <th>magnetZ</th>\n",
       "      <th>obdRpm</th>\n",
       "      <th>obdSpeed</th>\n",
       "      <th>time</th>\n",
       "      <th>anomaly</th>\n",
       "    </tr>\n",
       "  </thead>\n",
       "  <tbody>\n",
       "    <tr>\n",
       "      <th>0</th>\n",
       "      <td>2.220446e-17</td>\n",
       "      <td>-0.143652</td>\n",
       "      <td>9.779027</td>\n",
       "      <td>9.873688</td>\n",
       "      <td>-0.014639</td>\n",
       "      <td>-1.465251</td>\n",
       "      <td>0</td>\n",
       "      <td>data_item</td>\n",
       "      <td>3682.371238</td>\n",
       "      <td></td>\n",
       "      <td>...</td>\n",
       "      <td>3.534241e+27</td>\n",
       "      <td>6.035515</td>\n",
       "      <td>80.269212</td>\n",
       "      <td></td>\n",
       "      <td></td>\n",
       "      <td></td>\n",
       "      <td>0</td>\n",
       "      <td>0</td>\n",
       "      <td>1537579764266</td>\n",
       "      <td>N</td>\n",
       "    </tr>\n",
       "    <tr>\n",
       "      <th>1</th>\n",
       "      <td>0.000000e+00</td>\n",
       "      <td>-0.208296</td>\n",
       "      <td>9.807997</td>\n",
       "      <td>9.774328</td>\n",
       "      <td>0.018061</td>\n",
       "      <td>-1.477222</td>\n",
       "      <td>0</td>\n",
       "      <td>data_item</td>\n",
       "      <td>3682.371238</td>\n",
       "      <td></td>\n",
       "      <td>...</td>\n",
       "      <td>3.534241e+27</td>\n",
       "      <td>6.035515</td>\n",
       "      <td>80.269212</td>\n",
       "      <td></td>\n",
       "      <td></td>\n",
       "      <td></td>\n",
       "      <td>0</td>\n",
       "      <td>0</td>\n",
       "      <td>1537579764366</td>\n",
       "      <td>N</td>\n",
       "    </tr>\n",
       "    <tr>\n",
       "      <th>2</th>\n",
       "      <td>-3.538836e-17</td>\n",
       "      <td>-0.093374</td>\n",
       "      <td>9.782139</td>\n",
       "      <td>9.708488</td>\n",
       "      <td>-0.029349</td>\n",
       "      <td>-1.563414</td>\n",
       "      <td>0</td>\n",
       "      <td>data_item</td>\n",
       "      <td>3682.371238</td>\n",
       "      <td></td>\n",
       "      <td>...</td>\n",
       "      <td>3.534241e+27</td>\n",
       "      <td>6.035515</td>\n",
       "      <td>80.269212</td>\n",
       "      <td></td>\n",
       "      <td></td>\n",
       "      <td></td>\n",
       "      <td>0</td>\n",
       "      <td>0</td>\n",
       "      <td>1537579764466</td>\n",
       "      <td>N</td>\n",
       "    </tr>\n",
       "    <tr>\n",
       "      <th>3</th>\n",
       "      <td>1.318390e-17</td>\n",
       "      <td>-0.417788</td>\n",
       "      <td>9.826959</td>\n",
       "      <td>9.613917</td>\n",
       "      <td>-0.000558</td>\n",
       "      <td>-1.449689</td>\n",
       "      <td>0</td>\n",
       "      <td>data_item</td>\n",
       "      <td>3682.371238</td>\n",
       "      <td></td>\n",
       "      <td>...</td>\n",
       "      <td>3.534241e+27</td>\n",
       "      <td>6.035515</td>\n",
       "      <td>80.269212</td>\n",
       "      <td></td>\n",
       "      <td></td>\n",
       "      <td></td>\n",
       "      <td>0</td>\n",
       "      <td>0</td>\n",
       "      <td>1537579764566</td>\n",
       "      <td>N</td>\n",
       "    </tr>\n",
       "    <tr>\n",
       "      <th>4</th>\n",
       "      <td>2.220446e-17</td>\n",
       "      <td>-0.342371</td>\n",
       "      <td>9.797654</td>\n",
       "      <td>9.569624</td>\n",
       "      <td>-0.003664</td>\n",
       "      <td>-1.375469</td>\n",
       "      <td>0</td>\n",
       "      <td>data_item</td>\n",
       "      <td>3682.371238</td>\n",
       "      <td></td>\n",
       "      <td>...</td>\n",
       "      <td>3.534241e+27</td>\n",
       "      <td>6.035515</td>\n",
       "      <td>80.269212</td>\n",
       "      <td></td>\n",
       "      <td></td>\n",
       "      <td></td>\n",
       "      <td>0</td>\n",
       "      <td>0</td>\n",
       "      <td>1537579764666</td>\n",
       "      <td>N</td>\n",
       "    </tr>\n",
       "  </tbody>\n",
       "</table>\n",
       "<p>5 rows × 24 columns</p>\n",
       "</div>"
      ],
      "text/plain": [
       "          acceX  acceX_raw     acceY  acceY_raw     acceZ  acceZ_raw  count  \\\n",
       "0  2.220446e-17  -0.143652  9.779027   9.873688 -0.014639  -1.465251      0   \n",
       "1  0.000000e+00  -0.208296  9.807997   9.774328  0.018061  -1.477222      0   \n",
       "2 -3.538836e-17  -0.093374  9.782139   9.708488 -0.029349  -1.563414      0   \n",
       "3  1.318390e-17  -0.417788  9.826959   9.613917 -0.000558  -1.449689      0   \n",
       "4  2.220446e-17  -0.342371  9.797654   9.569624 -0.003664  -1.375469      0   \n",
       "\n",
       "    dataType     gpsSpeed gyroX   ...       journeyID       lat        lon  \\\n",
       "0  data_item  3682.371238         ...    3.534241e+27  6.035515  80.269212   \n",
       "1  data_item  3682.371238         ...    3.534241e+27  6.035515  80.269212   \n",
       "2  data_item  3682.371238         ...    3.534241e+27  6.035515  80.269212   \n",
       "3  data_item  3682.371238         ...    3.534241e+27  6.035515  80.269212   \n",
       "4  data_item  3682.371238         ...    3.534241e+27  6.035515  80.269212   \n",
       "\n",
       "   magnetX  magnetY  magnetZ  obdRpm obdSpeed           time anomaly  \n",
       "0                                  0        0  1537579764266       N  \n",
       "1                                  0        0  1537579764366       N  \n",
       "2                                  0        0  1537579764466       N  \n",
       "3                                  0        0  1537579764566       N  \n",
       "4                                  0        0  1537579764666       N  \n",
       "\n",
       "[5 rows x 24 columns]"
      ]
     },
     "execution_count": 26,
     "metadata": {},
     "output_type": "execute_result"
    }
   ],
   "source": [
    "result = pd.concat([data, y_predict,], axis=1)\n",
    "result.head()"
   ]
  },
  {
   "cell_type": "code",
   "execution_count": 27,
   "metadata": {},
   "outputs": [],
   "source": [
    "result.to_json(\"Predicted_Data/home_to_karapitiya.json\")"
   ]
  },
  {
   "cell_type": "code",
   "execution_count": 28,
   "metadata": {},
   "outputs": [
    {
     "name": "stdout",
     "output_type": "stream",
     "text": [
      "['N' 'A']\n"
     ]
    }
   ],
   "source": [
    "print(y_predict['anomaly'].unique())"
   ]
  },
  {
   "cell_type": "code",
   "execution_count": null,
   "metadata": {},
   "outputs": [],
   "source": []
  }
 ],
 "metadata": {
  "kernelspec": {
   "display_name": "Python 3",
   "language": "python",
   "name": "python3"
  },
  "language_info": {
   "codemirror_mode": {
    "name": "ipython",
    "version": 3
   },
   "file_extension": ".py",
   "mimetype": "text/x-python",
   "name": "python",
   "nbconvert_exporter": "python",
   "pygments_lexer": "ipython3",
   "version": "3.6.4"
  }
 },
 "nbformat": 4,
 "nbformat_minor": 2
}
