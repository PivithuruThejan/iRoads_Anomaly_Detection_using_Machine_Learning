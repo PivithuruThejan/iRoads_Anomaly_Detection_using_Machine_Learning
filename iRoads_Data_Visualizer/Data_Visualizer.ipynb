{
 "cells": [
  {
   "cell_type": "code",
   "execution_count": 1,
   "metadata": {},
   "outputs": [],
   "source": [
    "import pandas as pd\n",
    "import  numpy  as  np\n",
    "import matplotlib.pyplot as plt\n",
    "from sklearn.model_selection import train_test_split\n",
    "from sklearn.ensemble import RandomForestClassifier\n",
    "from sklearn import preprocessing\n",
    "from sklearn.model_selection import cross_val_score\n",
    "from sklearn.model_selection import GridSearchCV\n",
    "import seaborn as sns\n",
    "from imblearn.over_sampling import RandomOverSampler\n",
    "from imblearn.over_sampling import SMOTE\n",
    "from pandas_ml import ConfusionMatrix\n",
    "from scipy.fftpack import fft"
   ]
  },
  {
   "cell_type": "code",
   "execution_count": 2,
   "metadata": {},
   "outputs": [
    {
     "data": {
      "text/html": [
       "<div>\n",
       "<style scoped>\n",
       "    .dataframe tbody tr th:only-of-type {\n",
       "        vertical-align: middle;\n",
       "    }\n",
       "\n",
       "    .dataframe tbody tr th {\n",
       "        vertical-align: top;\n",
       "    }\n",
       "\n",
       "    .dataframe thead th {\n",
       "        text-align: right;\n",
       "    }\n",
       "</style>\n",
       "<table border=\"1\" class=\"dataframe\">\n",
       "  <thead>\n",
       "    <tr style=\"text-align: right;\">\n",
       "      <th></th>\n",
       "      <th>acceX</th>\n",
       "      <th>acceX_raw</th>\n",
       "      <th>acceY</th>\n",
       "      <th>acceY_raw</th>\n",
       "      <th>acceZ</th>\n",
       "      <th>acceZ_raw</th>\n",
       "      <th>anomaly</th>\n",
       "      <th>count</th>\n",
       "      <th>dataType</th>\n",
       "      <th>gpsSpeed</th>\n",
       "      <th>...</th>\n",
       "      <th>imei</th>\n",
       "      <th>journeyID</th>\n",
       "      <th>lat</th>\n",
       "      <th>lon</th>\n",
       "      <th>magnetX</th>\n",
       "      <th>magnetY</th>\n",
       "      <th>magnetZ</th>\n",
       "      <th>obdRpm</th>\n",
       "      <th>obdSpeed</th>\n",
       "      <th>time</th>\n",
       "    </tr>\n",
       "  </thead>\n",
       "  <tbody>\n",
       "    <tr>\n",
       "      <th>0</th>\n",
       "      <td>2.220446e-17</td>\n",
       "      <td>-0.143652</td>\n",
       "      <td>9.779027</td>\n",
       "      <td>9.873688</td>\n",
       "      <td>-0.014639</td>\n",
       "      <td>-1.465251</td>\n",
       "      <td>N</td>\n",
       "      <td>0</td>\n",
       "      <td>data_item</td>\n",
       "      <td>3682.371238</td>\n",
       "      <td>...</td>\n",
       "      <td>353424070112284</td>\n",
       "      <td>3.534241e+27</td>\n",
       "      <td>6.035515</td>\n",
       "      <td>80.269212</td>\n",
       "      <td></td>\n",
       "      <td></td>\n",
       "      <td></td>\n",
       "      <td>0</td>\n",
       "      <td>0</td>\n",
       "      <td>1537579764266</td>\n",
       "    </tr>\n",
       "    <tr>\n",
       "      <th>1</th>\n",
       "      <td>0.000000e+00</td>\n",
       "      <td>-0.208296</td>\n",
       "      <td>9.807997</td>\n",
       "      <td>9.774328</td>\n",
       "      <td>0.018061</td>\n",
       "      <td>-1.477222</td>\n",
       "      <td>N</td>\n",
       "      <td>0</td>\n",
       "      <td>data_item</td>\n",
       "      <td>3682.371238</td>\n",
       "      <td>...</td>\n",
       "      <td>353424070112284</td>\n",
       "      <td>3.534241e+27</td>\n",
       "      <td>6.035515</td>\n",
       "      <td>80.269212</td>\n",
       "      <td></td>\n",
       "      <td></td>\n",
       "      <td></td>\n",
       "      <td>0</td>\n",
       "      <td>0</td>\n",
       "      <td>1537579764366</td>\n",
       "    </tr>\n",
       "    <tr>\n",
       "      <th>2</th>\n",
       "      <td>-3.538836e-17</td>\n",
       "      <td>-0.093374</td>\n",
       "      <td>9.782139</td>\n",
       "      <td>9.708488</td>\n",
       "      <td>-0.029349</td>\n",
       "      <td>-1.563414</td>\n",
       "      <td>N</td>\n",
       "      <td>0</td>\n",
       "      <td>data_item</td>\n",
       "      <td>3682.371238</td>\n",
       "      <td>...</td>\n",
       "      <td>353424070112284</td>\n",
       "      <td>3.534241e+27</td>\n",
       "      <td>6.035515</td>\n",
       "      <td>80.269212</td>\n",
       "      <td></td>\n",
       "      <td></td>\n",
       "      <td></td>\n",
       "      <td>0</td>\n",
       "      <td>0</td>\n",
       "      <td>1537579764466</td>\n",
       "    </tr>\n",
       "    <tr>\n",
       "      <th>3</th>\n",
       "      <td>1.318390e-17</td>\n",
       "      <td>-0.417788</td>\n",
       "      <td>9.826959</td>\n",
       "      <td>9.613917</td>\n",
       "      <td>-0.000558</td>\n",
       "      <td>-1.449689</td>\n",
       "      <td>N</td>\n",
       "      <td>0</td>\n",
       "      <td>data_item</td>\n",
       "      <td>3682.371238</td>\n",
       "      <td>...</td>\n",
       "      <td>353424070112284</td>\n",
       "      <td>3.534241e+27</td>\n",
       "      <td>6.035515</td>\n",
       "      <td>80.269212</td>\n",
       "      <td></td>\n",
       "      <td></td>\n",
       "      <td></td>\n",
       "      <td>0</td>\n",
       "      <td>0</td>\n",
       "      <td>1537579764566</td>\n",
       "    </tr>\n",
       "    <tr>\n",
       "      <th>4</th>\n",
       "      <td>2.220446e-17</td>\n",
       "      <td>-0.342371</td>\n",
       "      <td>9.797654</td>\n",
       "      <td>9.569624</td>\n",
       "      <td>-0.003664</td>\n",
       "      <td>-1.375469</td>\n",
       "      <td>N</td>\n",
       "      <td>0</td>\n",
       "      <td>data_item</td>\n",
       "      <td>3682.371238</td>\n",
       "      <td>...</td>\n",
       "      <td>353424070112284</td>\n",
       "      <td>3.534241e+27</td>\n",
       "      <td>6.035515</td>\n",
       "      <td>80.269212</td>\n",
       "      <td></td>\n",
       "      <td></td>\n",
       "      <td></td>\n",
       "      <td>0</td>\n",
       "      <td>0</td>\n",
       "      <td>1537579764666</td>\n",
       "    </tr>\n",
       "  </tbody>\n",
       "</table>\n",
       "<p>5 rows × 24 columns</p>\n",
       "</div>"
      ],
      "text/plain": [
       "          acceX  acceX_raw     acceY  acceY_raw     acceZ  acceZ_raw anomaly  \\\n",
       "0  2.220446e-17  -0.143652  9.779027   9.873688 -0.014639  -1.465251       N   \n",
       "1  0.000000e+00  -0.208296  9.807997   9.774328  0.018061  -1.477222       N   \n",
       "2 -3.538836e-17  -0.093374  9.782139   9.708488 -0.029349  -1.563414       N   \n",
       "3  1.318390e-17  -0.417788  9.826959   9.613917 -0.000558  -1.449689       N   \n",
       "4  2.220446e-17  -0.342371  9.797654   9.569624 -0.003664  -1.375469       N   \n",
       "\n",
       "   count   dataType     gpsSpeed      ...                   imei  \\\n",
       "0      0  data_item  3682.371238      ...        353424070112284   \n",
       "1      0  data_item  3682.371238      ...        353424070112284   \n",
       "2      0  data_item  3682.371238      ...        353424070112284   \n",
       "3      0  data_item  3682.371238      ...        353424070112284   \n",
       "4      0  data_item  3682.371238      ...        353424070112284   \n",
       "\n",
       "      journeyID       lat        lon  magnetX  magnetY  magnetZ  obdRpm  \\\n",
       "0  3.534241e+27  6.035515  80.269212                                  0   \n",
       "1  3.534241e+27  6.035515  80.269212                                  0   \n",
       "2  3.534241e+27  6.035515  80.269212                                  0   \n",
       "3  3.534241e+27  6.035515  80.269212                                  0   \n",
       "4  3.534241e+27  6.035515  80.269212                                  0   \n",
       "\n",
       "  obdSpeed           time  \n",
       "0        0  1537579764266  \n",
       "1        0  1537579764366  \n",
       "2        0  1537579764466  \n",
       "3        0  1537579764566  \n",
       "4        0  1537579764666  \n",
       "\n",
       "[5 rows x 24 columns]"
      ]
     },
     "execution_count": 2,
     "metadata": {},
     "output_type": "execute_result"
    }
   ],
   "source": [
    "raw_data_file_name= \"tagged_data/home_to_karapitiya.json\"\n",
    "raw_data = pd.read_json(raw_data_file_name)\n",
    "raw_data.head(5)"
   ]
  },
  {
   "cell_type": "code",
   "execution_count": 3,
   "metadata": {},
   "outputs": [
    {
     "data": {
      "text/plain": [
       "(4525, 24)"
      ]
     },
     "execution_count": 3,
     "metadata": {},
     "output_type": "execute_result"
    }
   ],
   "source": [
    "raw_data.shape"
   ]
  },
  {
   "cell_type": "code",
   "execution_count": 4,
   "metadata": {
    "scrolled": true
   },
   "outputs": [
    {
     "name": "stderr",
     "output_type": "stream",
     "text": [
      "C:\\Users\\User\\Anaconda3\\lib\\site-packages\\ipykernel_launcher.py:3: SettingWithCopyWarning: \n",
      "A value is trying to be set on a copy of a slice from a DataFrame.\n",
      "Try using .loc[row_indexer,col_indexer] = value instead\n",
      "\n",
      "See the caveats in the documentation: http://pandas.pydata.org/pandas-docs/stable/indexing.html#indexing-view-versus-copy\n",
      "  This is separate from the ipykernel package so we can avoid doing imports until\n",
      "C:\\Users\\User\\Anaconda3\\lib\\site-packages\\pandas\\core\\indexing.py:194: SettingWithCopyWarning: \n",
      "A value is trying to be set on a copy of a slice from a DataFrame\n",
      "\n",
      "See the caveats in the documentation: http://pandas.pydata.org/pandas-docs/stable/indexing.html#indexing-view-versus-copy\n",
      "  self._setitem_with_indexer(indexer, value)\n",
      "C:\\Users\\User\\Anaconda3\\lib\\site-packages\\ipykernel_launcher.py:9: SettingWithCopyWarning: \n",
      "A value is trying to be set on a copy of a slice from a DataFrame\n",
      "\n",
      "See the caveats in the documentation: http://pandas.pydata.org/pandas-docs/stable/indexing.html#indexing-view-versus-copy\n",
      "  if __name__ == '__main__':\n"
     ]
    }
   ],
   "source": [
    "tag_features = ['time','anomaly',]\n",
    "tag_data = raw_data[tag_features]\n",
    "tag_data['value'] = 0\n",
    "i = -1\n",
    "for index, row in tag_data.iterrows():\n",
    "    i = i+1\n",
    "    if row['anomaly'] == 'A':\n",
    "        row['value'] = 1\n",
    "        tag_data.value.iloc[[i]] = 1\n",
    "    \n",
    "#tag_data.head()"
   ]
  },
  {
   "cell_type": "markdown",
   "metadata": {},
   "source": [
    "# Actual Signal"
   ]
  },
  {
   "cell_type": "code",
   "execution_count": 5,
   "metadata": {
    "scrolled": true
   },
   "outputs": [
    {
     "data": {
      "image/png": "[encoded data removed]",
      "text/plain": [
       "<matplotlib.figure.Figure at 0x2af4b477f98>"
      ]
     },
     "metadata": {},
     "output_type": "display_data"
    }
   ],
   "source": [
    "plt.plot(raw_data.time, raw_data.acceY)\n",
    "plt.show()"
   ]
  },
  {
   "cell_type": "markdown",
   "metadata": {},
   "source": [
    "# Anomaly Places"
   ]
  },
  {
   "cell_type": "code",
   "execution_count": 6,
   "metadata": {
    "scrolled": true
   },
   "outputs": [
    {
     "data": {
      "image/png": "[encoded data removed]",
      "text/plain": [
       "<matplotlib.figure.Figure at 0x2af4c641c50>"
      ]
     },
     "metadata": {},
     "output_type": "display_data"
    }
   ],
   "source": [
    "plt.plot(tag_data.time, tag_data.value)\n",
    "plt.show()"
   ]
  },
  {
   "cell_type": "code",
   "execution_count": null,
   "metadata": {},
   "outputs": [],
   "source": []
  }
 ],
 "metadata": {
  "kernelspec": {
   "display_name": "Python 3",
   "language": "python",
   "name": "python3"
  },
  "language_info": {
   "codemirror_mode": {
    "name": "ipython",
    "version": 3
   },
   "file_extension": ".py",
   "mimetype": "text/x-python",
   "name": "python",
   "nbconvert_exporter": "python",
   "pygments_lexer": "ipython3",
   "version": "3.6.4"
  }
 },
 "nbformat": 4,
 "nbformat_minor": 2
}
